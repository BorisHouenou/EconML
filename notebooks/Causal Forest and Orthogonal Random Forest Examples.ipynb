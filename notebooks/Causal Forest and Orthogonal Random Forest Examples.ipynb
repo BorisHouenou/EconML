{
 "cells": [
  {
   "cell_type": "markdown",
   "metadata": {},
   "source": [
    "<table border=\"0\">\n",
    "    <tr>\n",
    "        <td>\n",
    "            <img src=\"https://ictd2016.files.wordpress.com/2016/04/microsoft-research-logo-copy.jpg\" style=\"width 30px;\" />\n",
    "             </td>\n",
    "        <td>\n",
    "            <img src=\"https://www.microsoft.com/en-us/research/wp-content/uploads/2016/12/MSR-ALICE-HeaderGraphic-1920x720_1-800x550.jpg\" style=\"width 100px;\"/></td>\n",
    "        </tr>\n",
    "</table>"
   ]
  },
  {
   "cell_type": "markdown",
   "metadata": {},
   "source": [
    "# Orthogonal Random Forest and Causal Forest: Use Cases and Examples\n",
    "\n",
    "Causal Forests and Generalized Random Forests are a flexible method for estimating treatment effect heterogeneity with Random Forests. Orthogonal Random Forest (ORF) combines orthogonalization, a technique that effectively removes the confounding effect in two-stage estimation, with generalized random forests. Due to the orthogonalization aspect of this method, the ORF performs especially well in the presence of high-dimensional confounders. For more details, see [this paper](https://arxiv.org/abs/1806.03467) or the [EconML docummentation](https://econml.azurewebsites.net/).\n",
    "\n",
    "The EconML SDK implements the following OrthoForest variants:\n",
    "\n",
    "* DMLOrthoForest: suitable for continuous or discrete treatments\n",
    "\n",
    "* DROrthoForest: suitable for discrete treatments\n",
    "\n",
    "* CausalForest: suitable for both discrete and continuous treatments\n",
    "\n",
    "In this notebook, we show the performance of the ORF on synthetic and observational data. \n",
    "\n",
    "## Notebook Contents\n",
    "\n",
    "1. [Example Usage with Continuous Treatment Synthetic Data](#1.-Example-Usage-with-Continuous-Treatment-Synthetic-Data)\n",
    "2. [Example Usage with Binary Treatment Synthetic Data](#2.-Example-Usage-with-Binary-Treatment-Synthetic-Data)\n",
    "3. [Example Usage with Multiple Treatment Synthetic Data](#3.-Example-Usage-with-Multiple-Treatment-Synthetic-Data)\n",
    "4. [Example Usage with Real Continuous Treatment Observational Data](#4.-Example-Usage-with-Real-Continuous-Treatment-Observational-Data)"
   ]
  },
  {
   "cell_type": "code",
   "execution_count": 1,
   "metadata": {},
   "outputs": [],
   "source": [
    "import econml"
   ]
  },
  {
   "cell_type": "code",
   "execution_count": 2,
   "metadata": {},
   "outputs": [
    {
     "name": "stderr",
     "output_type": "stream",
     "text": [
      "C:\\ProgramData\\Anaconda3\\lib\\site-packages\\sklearn\\utils\\deprecation.py:143: FutureWarning: The sklearn.ensemble.forest module is  deprecated in version 0.22 and will be removed in version 0.24. The corresponding classes / functions should instead be imported from sklearn.ensemble. Anything that cannot be imported from sklearn.ensemble is now part of the private API.\n",
      "  warnings.warn(message, FutureWarning)\n",
      "C:\\ProgramData\\Anaconda3\\lib\\site-packages\\sklearn\\utils\\deprecation.py:143: FutureWarning: The sklearn.ensemble.base module is  deprecated in version 0.22 and will be removed in version 0.24. The corresponding classes / functions should instead be imported from sklearn.ensemble. Anything that cannot be imported from sklearn.ensemble is now part of the private API.\n",
      "  warnings.warn(message, FutureWarning)\n",
      "C:\\ProgramData\\Anaconda3\\lib\\site-packages\\econml\\causal_forest.py:15: FutureWarning: This class will be removed from a future version of this package; please use econml.sklearn_extensions.linear_model.WeightedLassoCV instead.\n",
      "  model_Y=LassoCVWrapper(cv=3),\n"
     ]
    }
   ],
   "source": [
    "# Main imports\n",
    "from econml.ortho_forest import DMLOrthoForest, DROrthoForest\n",
    "from econml.causal_forest import CausalForest\n",
    "from econml.sklearn_extensions.linear_model import WeightedLassoCVWrapper, WeightedLasso, WeightedLassoCV\n",
    "\n",
    "# Helper imports\n",
    "import numpy as np\n",
    "from itertools import product\n",
    "from sklearn.linear_model import Lasso, LassoCV, LogisticRegression, LogisticRegressionCV\n",
    "import matplotlib.pyplot as plt\n",
    "\n",
    "%matplotlib inline"
   ]
  },
  {
   "cell_type": "markdown",
   "metadata": {},
   "source": [
    "# 1. Example Usage with Continuous Treatment Synthetic Data"
   ]
  },
  {
   "cell_type": "markdown",
   "metadata": {},
   "source": [
    "## 1.1 DGP \n",
    "We use the data generating process (DGP) from [here](https://arxiv.org/abs/1806.03467). The DGP is described by the following equations:\n",
    "\n",
    "\\begin{align}\n",
    "T =& \\langle W, \\beta\\rangle + \\eta, & \\;\\eta \\sim \\text{Uniform}(-1, 1)\\\\\n",
    "Y =& T\\cdot \\theta(X) + \\langle W, \\gamma\\rangle + \\epsilon, &\\; \\epsilon \\sim \\text{Uniform}(-1, 1)\\\\\n",
    "W \\sim& \\text{Normal}(0,\\, I_{n_w})\\\\\n",
    "X \\sim& \\text{Uniform}(0,1)^{n_x}\n",
    "\\end{align}\n",
    "\n",
    "where $W$ is a matrix of high-dimensional confounders and $\\beta, \\gamma$ have high sparsity.\n",
    "\n",
    "For this DGP, \n",
    "\\begin{align}\n",
    "\\theta(x) = \\exp(2\\cdot x_1).\n",
    "\\end{align}"
   ]
  },
  {
   "cell_type": "code",
   "execution_count": 23,
   "metadata": {},
   "outputs": [],
   "source": [
    "# Treatment effect function\n",
    "def exp_te(x):\n",
    "    return np.exp(2*x[0])"
   ]
  },
  {
   "cell_type": "code",
   "execution_count": 24,
   "metadata": {},
   "outputs": [],
   "source": [
    "# DGP constants\n",
    "np.random.seed(123)\n",
    "n = 1000\n",
    "n_w = 30\n",
    "support_size = 5\n",
    "n_x = 1\n",
    "# Outcome support\n",
    "support_Y = np.random.choice(range(n_w), size=support_size, replace=False)\n",
    "coefs_Y = np.random.uniform(0, 1, size=support_size)\n",
    "epsilon_sample = lambda n: np.random.uniform(-1, 1, size=n)\n",
    "# Treatment support \n",
    "support_T = support_Y\n",
    "coefs_T = np.random.uniform(0, 1, size=support_size)\n",
    "eta_sample = lambda n: np.random.uniform(-1, 1, size=n) \n",
    "\n",
    "# Generate controls, covariates, treatments and outcomes\n",
    "W = np.random.normal(0, 1, size=(n, n_w))\n",
    "X = np.random.uniform(0, 1, size=(n, n_x))\n",
    "# Heterogeneous treatment effects\n",
    "TE = np.array([exp_te(x_i) for x_i in X])\n",
    "T = np.dot(W[:, support_T], coefs_T) + eta_sample(n)\n",
    "Y = TE * T + np.dot(W[:, support_Y], coefs_Y) + epsilon_sample(n)\n",
    "\n",
    "# ORF parameters and test data\n",
    "subsample_ratio = 0.3\n",
    "lambda_reg = np.sqrt(np.log(n_w) / (10 * subsample_ratio * n))\n",
    "X_test = np.array(list(product(np.arange(0, 1, 0.01), repeat=n_x)))"
   ]
  },
  {
   "cell_type": "markdown",
   "metadata": {},
   "source": [
    "## 1.2. Train Estimator\n",
    "\n",
    "**Note:** The models in the final stage of the estimation (``model_T_final``, ``model_Y_final``) need to support sample weighting. \n",
    "\n",
    "If the models of choice do not support sample weights (e.g. ``sklearn.linear_model.LassoCV``), the ``econml`` packages provides a convenient wrapper for these models ``WeightedModelWrapper`` in order to allow sample weights."
   ]
  },
  {
   "cell_type": "code",
   "execution_count": 25,
   "metadata": {},
   "outputs": [],
   "source": [
    "est = DMLOrthoForest(\n",
    "    n_trees=1000, min_leaf_size=5,\n",
    "    max_depth=50, subsample_ratio=subsample_ratio,\n",
    "    model_T=Lasso(alpha=lambda_reg),\n",
    "    model_Y=Lasso(alpha=lambda_reg),\n",
    "    model_T_final=WeightedLasso(alpha=lambda_reg),\n",
    "    model_Y_final=WeightedLasso(alpha=lambda_reg),\n",
    "    global_residualization=False,\n",
    "    random_state=123)"
   ]
  },
  {
   "cell_type": "markdown",
   "metadata": {},
   "source": [
    "To use the built-in confidence intervals constructed via Bootstrap of Little Bags, we can specify `inference=\"blb\"` at `fit` time or leave the default `inference='auto'` which will automatically use the Bootstrap of Little Bags."
   ]
  },
  {
   "cell_type": "code",
   "execution_count": 26,
   "metadata": {},
   "outputs": [
    {
     "name": "stderr",
     "output_type": "stream",
     "text": [
      "[Parallel(n_jobs=-1)]: Using backend LokyBackend with 8 concurrent workers.\n",
      "[Parallel(n_jobs=-1)]: Done  16 tasks      | elapsed:    7.4s\n",
      "[Parallel(n_jobs=-1)]: Done 344 tasks      | elapsed:    9.0s\n",
      "[Parallel(n_jobs=-1)]: Done 1000 out of 1000 | elapsed:   11.8s finished\n",
      "[Parallel(n_jobs=-1)]: Using backend LokyBackend with 8 concurrent workers.\n",
      "[Parallel(n_jobs=-1)]: Done  16 tasks      | elapsed:    0.0s\n",
      "[Parallel(n_jobs=-1)]: Done 624 tasks      | elapsed:    2.7s\n",
      "[Parallel(n_jobs=-1)]: Done 1000 out of 1000 | elapsed:    4.3s finished\n"
     ]
    },
    {
     "data": {
      "text/plain": [
       "<econml.ortho_forest.DMLOrthoForest at 0x16b54a60e10>"
      ]
     },
     "execution_count": 26,
     "metadata": {},
     "output_type": "execute_result"
    }
   ],
   "source": [
    "est.fit(Y, T, X=X, W=W, inference=\"blb\")"
   ]
  },
  {
   "cell_type": "code",
   "execution_count": 27,
   "metadata": {},
   "outputs": [
    {
     "name": "stderr",
     "output_type": "stream",
     "text": [
      "[Parallel(n_jobs=-1)]: Using backend LokyBackend with 8 concurrent workers.\n",
      "[Parallel(n_jobs=-1)]: Done  16 tasks      | elapsed:    8.3s\n",
      "[Parallel(n_jobs=-1)]: Done 100 out of 100 | elapsed:   10.2s finished\n"
     ]
    }
   ],
   "source": [
    "# Calculate treatment effects\n",
    "treatment_effects = est.effect(X_test)"
   ]
  },
  {
   "cell_type": "code",
   "execution_count": 28,
   "metadata": {},
   "outputs": [
    {
     "name": "stderr",
     "output_type": "stream",
     "text": [
      "[Parallel(n_jobs=-1)]: Using backend LokyBackend with 8 concurrent workers.\n",
      "[Parallel(n_jobs=-1)]: Done  16 tasks      | elapsed:    2.4s\n",
      "[Parallel(n_jobs=-1)]: Done 100 out of 100 | elapsed:    4.7s finished\n"
     ]
    }
   ],
   "source": [
    "# Calculate default (90%) confidence intervals for the test data\n",
    "te_lower, te_upper = est.effect_interval(X_test, alpha=0.01)"
   ]
  },
  {
   "cell_type": "code",
   "execution_count": 29,
   "metadata": {},
   "outputs": [
    {
     "name": "stderr",
     "output_type": "stream",
     "text": [
      "[Parallel(n_jobs=-1)]: Using backend LokyBackend with 8 concurrent workers.\n",
      "[Parallel(n_jobs=-1)]: Done  16 tasks      | elapsed:    2.2s\n",
      "[Parallel(n_jobs=-1)]: Done 100 out of 100 | elapsed:    4.6s finished\n"
     ]
    }
   ],
   "source": [
    "res = est.effect_inference(X_test)"
   ]
  },
  {
   "cell_type": "code",
   "execution_count": 30,
   "metadata": {},
   "outputs": [
    {
     "data": {
      "text/html": [
       "<div>\n",
       "<style scoped>\n",
       "    .dataframe tbody tr th:only-of-type {\n",
       "        vertical-align: middle;\n",
       "    }\n",
       "\n",
       "    .dataframe tbody tr th {\n",
       "        vertical-align: top;\n",
       "    }\n",
       "\n",
       "    .dataframe thead th {\n",
       "        text-align: right;\n",
       "    }\n",
       "</style>\n",
       "<table border=\"1\" class=\"dataframe\">\n",
       "  <thead>\n",
       "    <tr style=\"text-align: right;\">\n",
       "      <th></th>\n",
       "      <th>point_estimate</th>\n",
       "      <th>stderr</th>\n",
       "      <th>zstat</th>\n",
       "      <th>pvalue</th>\n",
       "      <th>ci_lower</th>\n",
       "      <th>ci_upper</th>\n",
       "    </tr>\n",
       "  </thead>\n",
       "  <tbody>\n",
       "    <tr>\n",
       "      <th>0</th>\n",
       "      <td>1.161</td>\n",
       "      <td>0.183</td>\n",
       "      <td>6.339</td>\n",
       "      <td>0.0</td>\n",
       "      <td>0.860</td>\n",
       "      <td>1.462</td>\n",
       "    </tr>\n",
       "    <tr>\n",
       "      <th>1</th>\n",
       "      <td>1.171</td>\n",
       "      <td>0.177</td>\n",
       "      <td>6.628</td>\n",
       "      <td>0.0</td>\n",
       "      <td>0.881</td>\n",
       "      <td>1.462</td>\n",
       "    </tr>\n",
       "    <tr>\n",
       "      <th>2</th>\n",
       "      <td>1.182</td>\n",
       "      <td>0.171</td>\n",
       "      <td>6.925</td>\n",
       "      <td>0.0</td>\n",
       "      <td>0.901</td>\n",
       "      <td>1.462</td>\n",
       "    </tr>\n",
       "    <tr>\n",
       "      <th>3</th>\n",
       "      <td>1.192</td>\n",
       "      <td>0.165</td>\n",
       "      <td>7.228</td>\n",
       "      <td>0.0</td>\n",
       "      <td>0.921</td>\n",
       "      <td>1.463</td>\n",
       "    </tr>\n",
       "    <tr>\n",
       "      <th>4</th>\n",
       "      <td>1.202</td>\n",
       "      <td>0.160</td>\n",
       "      <td>7.533</td>\n",
       "      <td>0.0</td>\n",
       "      <td>0.940</td>\n",
       "      <td>1.465</td>\n",
       "    </tr>\n",
       "  </tbody>\n",
       "</table>\n",
       "</div>"
      ],
      "text/plain": [
       "   point_estimate  stderr  zstat  pvalue  ci_lower  ci_upper\n",
       "0           1.161   0.183  6.339     0.0     0.860     1.462\n",
       "1           1.171   0.177  6.628     0.0     0.881     1.462\n",
       "2           1.182   0.171  6.925     0.0     0.901     1.462\n",
       "3           1.192   0.165  7.228     0.0     0.921     1.463\n",
       "4           1.202   0.160  7.533     0.0     0.940     1.465"
      ]
     },
     "execution_count": 30,
     "metadata": {},
     "output_type": "execute_result"
    }
   ],
   "source": [
    "res.summary_frame().head()"
   ]
  },
  {
   "cell_type": "code",
   "execution_count": 31,
   "metadata": {},
   "outputs": [
    {
     "data": {
      "text/html": [
       "<table class=\"simpletable\">\n",
       "<caption>Uncertainty of Mean Point Estimate</caption>\n",
       "<tr>\n",
       "  <th>mean_point</th> <th>stderr_mean</th> <th>zstat</th> <th>pvalue</th> <th>ci_mean_lower</th> <th>ci_mean_upper</th>\n",
       "</tr>\n",
       "<tr>\n",
       "     <td>3.179</td>      <td>0.287</td>    <td>11.06</td>   <td>0.0</td>      <td>2.706</td>         <td>3.652</td>    \n",
       "</tr>\n",
       "</table>\n",
       "<table class=\"simpletable\">\n",
       "<caption>Distribution of Point Estimate</caption>\n",
       "<tr>\n",
       "  <th>std_point</th> <th>pct_point_lower</th> <th>pct_point_upper</th>\n",
       "</tr>\n",
       "<tr>\n",
       "    <td>1.715</td>        <td>1.212</td>           <td>6.168</td>     \n",
       "</tr>\n",
       "</table>\n",
       "<table class=\"simpletable\">\n",
       "<caption>Total Variance of Point Estimate</caption>\n",
       "<tr>\n",
       "  <th>stderr_point</th> <th>ci_point_lower</th> <th>ci_point_upper</th>\n",
       "</tr>\n",
       "<tr>\n",
       "      <td>1.739</td>         <td>1.16</td>           <td>6.247</td>    \n",
       "</tr>\n",
       "</table><br/><br/>Note: The stderr_mean is a conservative upper bound."
      ],
      "text/plain": [
       "<econml.inference.PopulationSummaryResults at 0x16b55fe6c18>"
      ]
     },
     "execution_count": 31,
     "metadata": {},
     "output_type": "execute_result"
    }
   ],
   "source": [
    "res.population_summary()"
   ]
  },
  {
   "cell_type": "markdown",
   "metadata": {},
   "source": [
    "Similarly we can estimate effects and get confidence intervals and inference results using a `CausalForest`."
   ]
  },
  {
   "cell_type": "code",
   "execution_count": 32,
   "metadata": {},
   "outputs": [
    {
     "name": "stderr",
     "output_type": "stream",
     "text": [
      "C:\\ProgramData\\Anaconda3\\lib\\site-packages\\ipykernel_launcher.py:7: FutureWarning: The CausalForest class has been deprecated by the CausalForestDML; an upcoming release will remove support for the old class\n",
      "  import sys\n"
     ]
    }
   ],
   "source": [
    "est2 = CausalForest(\n",
    "    n_trees=4000, min_leaf_size=5,\n",
    "    max_depth=50, subsample_ratio=subsample_ratio,\n",
    "    model_T=Lasso(alpha=lambda_reg),\n",
    "    model_Y=Lasso(alpha=lambda_reg),\n",
    "    verbose=0,\n",
    "    random_state=123)\n",
    "est2.fit(Y, T, X=X, W=W)\n",
    "treatment_effects2 = est2.effect(X_test)\n",
    "te_lower2, te_upper2 = est2.effect_interval(X_test, alpha=0.01)"
   ]
  },
  {
   "cell_type": "markdown",
   "metadata": {},
   "source": [
    "## 1.3. Performance Visualization"
   ]
  },
  {
   "cell_type": "code",
   "execution_count": 33,
   "metadata": {},
   "outputs": [
    {
     "data": {
      "image/png": "[encoded data removed]",
      "text/plain": [
       "<Figure size 1080x360 with 2 Axes>"
      ]
     },
     "metadata": {
      "needs_background": "light"
     },
     "output_type": "display_data"
    }
   ],
   "source": [
    "plt.figure(figsize=(15, 5))\n",
    "plt.subplot(1, 2, 1)\n",
    "plt.title(\"ContinuousOrthoForest\")\n",
    "plt.plot(X_test, treatment_effects, label='ORF estimate')\n",
    "expected_te = np.array([exp_te(x_i) for x_i in X_test])\n",
    "plt.plot(X_test[:, 0], expected_te, 'b--', label='True effect')\n",
    "plt.fill_between(X_test[:, 0], te_lower, te_upper, label=\"90% BLB CI\", alpha=0.3)\n",
    "plt.ylabel(\"Treatment Effect\")\n",
    "plt.xlabel(\"x\")\n",
    "plt.legend()\n",
    "plt.subplot(1, 2, 2)\n",
    "plt.title(\"CausalForest\")\n",
    "plt.plot(X_test, treatment_effects2, label='ORF estimate')\n",
    "expected_te = np.array([exp_te(x_i) for x_i in X_test])\n",
    "plt.plot(X_test[:, 0], expected_te, 'b--', label='True effect')\n",
    "plt.fill_between(X_test[:, 0], te_lower2, te_upper2, label=\"90% BLB CI\", alpha=0.3)\n",
    "plt.ylabel(\"Treatment Effect\")\n",
    "plt.xlabel(\"x\")\n",
    "plt.legend()\n",
    "plt.show()"
   ]
  },
  {
   "cell_type": "markdown",
   "metadata": {},
   "source": [
    "# 2. Example Usage with Binary Treatment Synthetic Data"
   ]
  },
  {
   "cell_type": "markdown",
   "metadata": {},
   "source": [
    "## 2.1. DGP \n",
    "We use the following DGP:\n",
    "\n",
    "\\begin{align}\n",
    "T \\sim & \\text{Bernoulli}\\left(f(W)\\right), &\\; f(W)=\\sigma(\\langle W, \\beta\\rangle + \\eta), \\;\\eta \\sim \\text{Uniform}(-1, 1)\\\\\n",
    "Y = & T\\cdot \\theta(X) + \\langle W, \\gamma\\rangle + \\epsilon, & \\; \\epsilon \\sim \\text{Uniform}(-1, 1)\\\\\n",
    "W \\sim & \\text{Normal}(0,\\, I_{n_w}) & \\\\\n",
    "X \\sim & \\text{Uniform}(0,\\, 1)^{n_x}\n",
    "\\end{align}\n",
    "\n",
    "where $W$ is a matrix of high-dimensional confounders, $\\beta, \\gamma$ have high sparsity and $\\sigma$ is the sigmoid function.\n",
    "\n",
    "For this DGP, \n",
    "\\begin{align}\n",
    "\\theta(x) = \\exp( 2\\cdot x_1 ).\n",
    "\\end{align}"
   ]
  },
  {
   "cell_type": "code",
   "execution_count": 15,
   "metadata": {},
   "outputs": [],
   "source": [
    "# DGP constants\n",
    "np.random.seed(1234)\n",
    "n = 1000\n",
    "n_w = 30\n",
    "support_size = 5\n",
    "n_x = 1\n",
    "# Outcome support\n",
    "support_Y = np.random.choice(range(n_w), size=support_size, replace=False)\n",
    "coefs_Y = np.random.uniform(0, 1, size=support_size)\n",
    "epsilon_sample = lambda n: np.random.uniform(-1, 1, size=n)\n",
    "# Treatment support \n",
    "support_T = support_Y\n",
    "coefs_T = np.random.uniform(0, 1, size=support_size)\n",
    "eta_sample = lambda n: np.random.uniform(-1, 1, size=n) \n",
    "\n",
    "# Generate controls, covariates, treatments and outcomes\n",
    "W = np.random.normal(0, 1, size=(n, n_w))\n",
    "X = np.random.uniform(0, 1, size=(n, n_x))\n",
    "# Heterogeneous treatment effects\n",
    "TE = np.array([exp_te(x_i) for x_i in X])\n",
    "# Define treatment\n",
    "log_odds = np.dot(W[:, support_T], coefs_T) + eta_sample(n)\n",
    "T_sigmoid = 1/(1 + np.exp(-log_odds))\n",
    "T = np.array([np.random.binomial(1, p) for p in T_sigmoid])\n",
    "# Define the outcome\n",
    "Y = TE * T + np.dot(W[:, support_Y], coefs_Y) + epsilon_sample(n)\n",
    "\n",
    "# ORF parameters and test data\n",
    "subsample_ratio = 0.4\n",
    "X_test = np.array(list(product(np.arange(0, 1, 0.01), repeat=n_x)))"
   ]
  },
  {
   "cell_type": "markdown",
   "metadata": {},
   "source": [
    "## 2.2. Train Estimator "
   ]
  },
  {
   "cell_type": "code",
   "execution_count": 16,
   "metadata": {},
   "outputs": [],
   "source": [
    "est = DROrthoForest(\n",
    "    n_trees=200, min_leaf_size=10,\n",
    "    max_depth=30, subsample_ratio=subsample_ratio,\n",
    "    propensity_model = LogisticRegression(C=1/(X.shape[0]*lambda_reg), penalty='l1', solver='saga'),\n",
    "    model_Y = Lasso(alpha=lambda_reg),\n",
    "    propensity_model_final=LogisticRegression(C=1/(X.shape[0]*lambda_reg), penalty='l1', solver='saga'), \n",
    "    model_Y_final=WeightedLasso(alpha=lambda_reg)\n",
    ")"
   ]
  },
  {
   "cell_type": "code",
   "execution_count": 17,
   "metadata": {},
   "outputs": [
    {
     "name": "stderr",
     "output_type": "stream",
     "text": [
      "[Parallel(n_jobs=-1)]: Using backend LokyBackend with 8 concurrent workers.\n",
      "[Parallel(n_jobs=-1)]: Done  16 tasks      | elapsed:    6.8s\n",
      "[Parallel(n_jobs=-1)]: Done 176 tasks      | elapsed:    7.5s\n",
      "[Parallel(n_jobs=-1)]: Done 200 out of 200 | elapsed:    7.6s finished\n",
      "[Parallel(n_jobs=-1)]: Using backend LokyBackend with 8 concurrent workers.\n",
      "[Parallel(n_jobs=-1)]: Done  16 tasks      | elapsed:    0.1s\n",
      "[Parallel(n_jobs=-1)]: Done 200 out of 200 | elapsed:    0.6s finished\n"
     ]
    },
    {
     "data": {
      "text/plain": [
       "<econml.ortho_forest.DROrthoForest at 0x16b50a60128>"
      ]
     },
     "execution_count": 17,
     "metadata": {},
     "output_type": "execute_result"
    }
   ],
   "source": [
    "est.fit(Y, T, X=X, W=W)"
   ]
  },
  {
   "cell_type": "code",
   "execution_count": 18,
   "metadata": {},
   "outputs": [
    {
     "name": "stderr",
     "output_type": "stream",
     "text": [
      "[Parallel(n_jobs=-1)]: Using backend LokyBackend with 8 concurrent workers.\n",
      "[Parallel(n_jobs=-1)]: Done  16 tasks      | elapsed:    7.6s\n",
      "[Parallel(n_jobs=-1)]: Done 100 out of 100 | elapsed:    8.3s finished\n"
     ]
    }
   ],
   "source": [
    "# Calculate treatment effects for the default treatment points T0=0 and T1=1\n",
    "treatment_effects = est.effect(X_test)"
   ]
  },
  {
   "cell_type": "code",
   "execution_count": 19,
   "metadata": {},
   "outputs": [
    {
     "name": "stderr",
     "output_type": "stream",
     "text": [
      "[Parallel(n_jobs=-1)]: Using backend LokyBackend with 8 concurrent workers.\n",
      "[Parallel(n_jobs=-1)]: Done  18 tasks      | elapsed:    0.7s\n",
      "[Parallel(n_jobs=-1)]: Done 100 out of 100 | elapsed:    1.5s finished\n"
     ]
    }
   ],
   "source": [
    "# Calculate default (90%) confidence intervals for the default treatment points T0=0 and T1=1\n",
    "te_lower, te_upper = est.effect_interval(X_test, alpha=0.01)"
   ]
  },
  {
   "cell_type": "code",
   "execution_count": 21,
   "metadata": {},
   "outputs": [
    {
     "name": "stderr",
     "output_type": "stream",
     "text": [
      "C:\\ProgramData\\Anaconda3\\lib\\site-packages\\ipykernel_launcher.py:6: FutureWarning: The CausalForest class has been deprecated by the CausalForestDML; an upcoming release will remove support for the old class\n",
      "  \n"
     ]
    }
   ],
   "source": [
    "est2 = CausalForest(n_trees=200, min_leaf_size=5,\n",
    "                    max_depth=50, subsample_ratio=subsample_ratio,\n",
    "                    model_T=LogisticRegression(C=1/(X.shape[0]*lambda_reg)),\n",
    "                    model_Y=Lasso(alpha=lambda_reg),\n",
    "                    discrete_treatment=True,\n",
    "                    random_state=123)\n",
    "est2.fit(Y, T, X=X, W=W)\n",
    "treatment_effects2 = est2.effect(X_test)\n",
    "te_lower2, te_upper2 = est2.effect_interval(X_test, alpha=0.01)"
   ]
  },
  {
   "cell_type": "markdown",
   "metadata": {},
   "source": [
    "## 2.3. Performance Visualization"
   ]
  },
  {
   "cell_type": "code",
   "execution_count": 22,
   "metadata": {},
   "outputs": [
    {
     "data": {
      "image/png": "[encoded data removed]",
      "text/plain": [
       "<Figure size 1080x360 with 2 Axes>"
      ]
     },
     "metadata": {
      "needs_background": "light"
     },
     "output_type": "display_data"
    }
   ],
   "source": [
    "plt.figure(figsize=(15, 5))\n",
    "plt.subplot(1, 2, 1)\n",
    "plt.title(\"DiscreteTreatmentOrthoForest\")\n",
    "plt.plot(X_test, treatment_effects, label='ORF estimate')\n",
    "expected_te = np.array([exp_te(x_i) for x_i in X_test])\n",
    "plt.plot(X_test[:, 0], expected_te, 'b--', label='True effect')\n",
    "plt.fill_between(X_test[:, 0], te_lower, te_upper, label=\"90% BLB CI\", alpha=0.3)\n",
    "plt.ylabel(\"Treatment Effect\")\n",
    "plt.xlabel(\"x\")\n",
    "plt.legend()\n",
    "plt.subplot(1, 2, 2)\n",
    "plt.title(\"CausalForest\")\n",
    "plt.plot(X_test, treatment_effects2, label='ORF estimate')\n",
    "expected_te = np.array([exp_te(x_i) for x_i in X_test])\n",
    "plt.plot(X_test[:, 0], expected_te, 'b--', label='True effect')\n",
    "plt.fill_between(X_test[:, 0], te_lower2, te_upper2, label=\"90% BLB CI\", alpha=0.3)\n",
    "plt.ylabel(\"Treatment Effect\")\n",
    "plt.xlabel(\"x\")\n",
    "plt.legend()\n",
    "plt.show()"
   ]
  },
  {
   "cell_type": "markdown",
   "metadata": {},
   "source": [
    "# 3. Example Usage with Multiple Treatment Synthetic Data"
   ]
  },
  {
   "cell_type": "markdown",
   "metadata": {},
   "source": [
    "## 3.1. DGP \n",
    "We use the following DGP:\n",
    "\n",
    "\\begin{align}\n",
    "Y = & \\sum_{t=1}^{n_{\\text{treatments}}} 1\\{T=t\\}\\cdot \\theta_{T}(X) + \\langle W, \\gamma\\rangle + \\epsilon, \\; \\epsilon \\sim \\text{Unif}(-1, 1), \\\\\n",
    "\\text{Pr}[T=t \\mid W] \\propto & \\exp\\{\\langle W, \\beta_t \\rangle\\}, \\;\\;\\;\\; \\forall t\\in \\{0, 1, \\ldots, n_{\\text{treatments}}\\} \n",
    "\\end{align}\n",
    "\n",
    "where $W$ is a matrix of high-dimensional confounders, $\\beta_t, \\gamma$ are sparse.\n",
    "\n",
    "For this particular example DGP we used $n_{\\text{treatments}}=3$ and \n",
    "\\begin{align}\n",
    "\\theta_1(x) = & \\exp( 2 x_1 ),\\\\\n",
    "\\theta_2(x) = &  3 \\cdot \\sigma(100\\cdot (x_1 - .5)),\\\\\n",
    "\\theta_3(x) = & -2 \\cdot \\sigma(100\\cdot (x_1 - .25)),\n",
    "\\end{align}\n",
    "where $\\sigma$ is the sigmoid function."
   ]
  },
  {
   "cell_type": "code",
   "execution_count": 5,
   "metadata": {},
   "outputs": [],
   "source": [
    "def get_test_train_data(n, n_w, support_size, n_x, te_func, n_treatments):\n",
    "    # Outcome support\n",
    "    support_Y = np.random.choice(range(n_w), size=support_size, replace=False)\n",
    "    coefs_Y = np.random.uniform(0, 1, size=support_size)\n",
    "    epsilon_sample = lambda n: np.random.uniform(-1, 1, size=n)\n",
    "    # Treatment support \n",
    "    support_T = support_Y\n",
    "    coefs_T = np.random.uniform(0, 1, size=(support_size, n_treatments))\n",
    "    eta_sample = lambda n: np.random.uniform(-1, 1, size=n) \n",
    "    # Generate controls, covariates, treatments and outcomes\n",
    "    W = np.random.normal(0, 1, size=(n, n_w))\n",
    "    X = np.random.uniform(0, 1, size=(n, n_x))\n",
    "    # Heterogeneous treatment effects\n",
    "    TE = np.array([te_func(x_i, n_treatments) for x_i in X])\n",
    "    log_odds = np.dot(W[:, support_T], coefs_T)\n",
    "    T_sigmoid = np.exp(log_odds)\n",
    "    T_sigmoid = T_sigmoid/np.sum(T_sigmoid, axis=1, keepdims=True)\n",
    "    T = np.array([np.random.choice(n_treatments, p=p) for p in T_sigmoid])\n",
    "    TE = np.concatenate((np.zeros((n,1)), TE), axis=1)\n",
    "    Y = TE[np.arange(n), T] + np.dot(W[:, support_Y], coefs_Y) + epsilon_sample(n)\n",
    "    X_test = np.array(list(product(np.arange(0, 1, 0.01), repeat=n_x)))\n",
    "\n",
    "    return (Y, T, X, W), (X_test, np.array([te_func(x, n_treatments) for x in X_test]))"
   ]
  },
  {
   "cell_type": "code",
   "execution_count": 6,
   "metadata": {},
   "outputs": [],
   "source": [
    "import scipy.special\n",
    "def te_func(x, n_treatments):\n",
    "    return [np.exp(2*x[0]), 3*scipy.special.expit(100*(x[0] - .5)) - 1, -2*scipy.special.expit(100*(x[0] - .25))]\n",
    "\n",
    "np.random.seed(123)\n",
    "(Y, T, X, W), (X_test, te_test) = get_test_train_data(2000, 3, 3, 1, te_func, 4)"
   ]
  },
  {
   "cell_type": "markdown",
   "metadata": {},
   "source": [
    "## 3.2. Train Estimator"
   ]
  },
  {
   "cell_type": "code",
   "execution_count": 7,
   "metadata": {},
   "outputs": [],
   "source": [
    "est = DROrthoForest(n_trees=500, model_Y = WeightedLasso(alpha=lambda_reg))"
   ]
  },
  {
   "cell_type": "code",
   "execution_count": 8,
   "metadata": {},
   "outputs": [
    {
     "name": "stderr",
     "output_type": "stream",
     "text": [
      "[Parallel(n_jobs=-1)]: Using backend LokyBackend with 8 concurrent workers.\n",
      "[Parallel(n_jobs=-1)]: Done  16 tasks      | elapsed:    7.2s\n",
      "[Parallel(n_jobs=-1)]: Done 144 tasks      | elapsed:    8.9s\n",
      "[Parallel(n_jobs=-1)]: Done 464 tasks      | elapsed:   13.0s\n",
      "[Parallel(n_jobs=-1)]: Done 500 out of 500 | elapsed:   13.4s finished\n",
      "[Parallel(n_jobs=-1)]: Using backend LokyBackend with 8 concurrent workers.\n",
      "[Parallel(n_jobs=-1)]: Done  16 tasks      | elapsed:    0.2s\n",
      "[Parallel(n_jobs=-1)]: Done 208 tasks      | elapsed:    2.6s\n",
      "[Parallel(n_jobs=-1)]: Done 500 out of 500 | elapsed:    6.1s finished\n"
     ]
    },
    {
     "data": {
      "text/plain": [
       "<econml.ortho_forest.DROrthoForest at 0x16b4c70ecf8>"
      ]
     },
     "execution_count": 8,
     "metadata": {},
     "output_type": "execute_result"
    }
   ],
   "source": [
    "est.fit(Y, T, X=X, W=W)"
   ]
  },
  {
   "cell_type": "code",
   "execution_count": 9,
   "metadata": {},
   "outputs": [
    {
     "name": "stderr",
     "output_type": "stream",
     "text": [
      "[Parallel(n_jobs=-1)]: Using backend LokyBackend with 8 concurrent workers.\n",
      "[Parallel(n_jobs=-1)]: Done  16 tasks      | elapsed:    6.8s\n",
      "[Parallel(n_jobs=-1)]: Done 100 out of 100 | elapsed:    7.9s finished\n"
     ]
    }
   ],
   "source": [
    "# Calculate marginal treatment effects\n",
    "treatment_effects = est.const_marginal_effect(X_test)"
   ]
  },
  {
   "cell_type": "code",
   "execution_count": 10,
   "metadata": {},
   "outputs": [
    {
     "name": "stderr",
     "output_type": "stream",
     "text": [
      "[Parallel(n_jobs=-1)]: Using backend LokyBackend with 8 concurrent workers.\n",
      "[Parallel(n_jobs=-1)]: Done  16 tasks      | elapsed:    1.3s\n",
      "[Parallel(n_jobs=-1)]: Done 100 out of 100 | elapsed:    2.7s finished\n"
     ]
    }
   ],
   "source": [
    "# Calculate default (90%) marginal confidence intervals for the test data\n",
    "te_lower, te_upper = est.const_marginal_effect_interval(X_test, alpha=.01)"
   ]
  },
  {
   "cell_type": "code",
   "execution_count": 11,
   "metadata": {},
   "outputs": [
    {
     "name": "stderr",
     "output_type": "stream",
     "text": [
      "[Parallel(n_jobs=-1)]: Using backend LokyBackend with 8 concurrent workers.\n",
      "[Parallel(n_jobs=-1)]: Done  16 tasks      | elapsed:    1.3s\n",
      "[Parallel(n_jobs=-1)]: Done 100 out of 100 | elapsed:    2.7s finished\n"
     ]
    }
   ],
   "source": [
    "res = est.const_marginal_effect_inference(X_test)"
   ]
  },
  {
   "cell_type": "code",
   "execution_count": 12,
   "metadata": {},
   "outputs": [
    {
     "data": {
      "text/html": [
       "<div>\n",
       "<style scoped>\n",
       "    .dataframe tbody tr th:only-of-type {\n",
       "        vertical-align: middle;\n",
       "    }\n",
       "\n",
       "    .dataframe tbody tr th {\n",
       "        vertical-align: top;\n",
       "    }\n",
       "\n",
       "    .dataframe thead tr th {\n",
       "        text-align: left;\n",
       "    }\n",
       "</style>\n",
       "<table border=\"1\" class=\"dataframe\">\n",
       "  <thead>\n",
       "    <tr>\n",
       "      <th></th>\n",
       "      <th colspan=\"3\" halign=\"left\">point_estimate</th>\n",
       "      <th colspan=\"3\" halign=\"left\">stderr</th>\n",
       "      <th colspan=\"3\" halign=\"left\">zstat</th>\n",
       "      <th colspan=\"3\" halign=\"left\">pvalue</th>\n",
       "      <th colspan=\"3\" halign=\"left\">ci_lower</th>\n",
       "      <th colspan=\"3\" halign=\"left\">ci_upper</th>\n",
       "    </tr>\n",
       "    <tr>\n",
       "      <th></th>\n",
       "      <th>T0</th>\n",
       "      <th>T1</th>\n",
       "      <th>T2</th>\n",
       "      <th>T0</th>\n",
       "      <th>T1</th>\n",
       "      <th>T2</th>\n",
       "      <th>T0</th>\n",
       "      <th>T1</th>\n",
       "      <th>T2</th>\n",
       "      <th>T0</th>\n",
       "      <th>T1</th>\n",
       "      <th>T2</th>\n",
       "      <th>T0</th>\n",
       "      <th>T1</th>\n",
       "      <th>T2</th>\n",
       "      <th>T0</th>\n",
       "      <th>T1</th>\n",
       "      <th>T2</th>\n",
       "    </tr>\n",
       "  </thead>\n",
       "  <tbody>\n",
       "    <tr>\n",
       "      <th>0</th>\n",
       "      <td>1.012</td>\n",
       "      <td>-0.985</td>\n",
       "      <td>0.037</td>\n",
       "      <td>0.158</td>\n",
       "      <td>0.147</td>\n",
       "      <td>0.224</td>\n",
       "      <td>6.420</td>\n",
       "      <td>-6.715</td>\n",
       "      <td>0.167</td>\n",
       "      <td>0.0</td>\n",
       "      <td>0.0</td>\n",
       "      <td>0.867</td>\n",
       "      <td>0.753</td>\n",
       "      <td>-1.227</td>\n",
       "      <td>-0.331</td>\n",
       "      <td>1.272</td>\n",
       "      <td>-0.744</td>\n",
       "      <td>0.406</td>\n",
       "    </tr>\n",
       "    <tr>\n",
       "      <th>1</th>\n",
       "      <td>1.018</td>\n",
       "      <td>-0.985</td>\n",
       "      <td>0.037</td>\n",
       "      <td>0.160</td>\n",
       "      <td>0.145</td>\n",
       "      <td>0.224</td>\n",
       "      <td>6.371</td>\n",
       "      <td>-6.782</td>\n",
       "      <td>0.164</td>\n",
       "      <td>0.0</td>\n",
       "      <td>0.0</td>\n",
       "      <td>0.869</td>\n",
       "      <td>0.755</td>\n",
       "      <td>-1.224</td>\n",
       "      <td>-0.331</td>\n",
       "      <td>1.281</td>\n",
       "      <td>-0.746</td>\n",
       "      <td>0.404</td>\n",
       "    </tr>\n",
       "    <tr>\n",
       "      <th>2</th>\n",
       "      <td>1.020</td>\n",
       "      <td>-0.990</td>\n",
       "      <td>0.038</td>\n",
       "      <td>0.156</td>\n",
       "      <td>0.146</td>\n",
       "      <td>0.224</td>\n",
       "      <td>6.534</td>\n",
       "      <td>-6.761</td>\n",
       "      <td>0.169</td>\n",
       "      <td>0.0</td>\n",
       "      <td>0.0</td>\n",
       "      <td>0.866</td>\n",
       "      <td>0.764</td>\n",
       "      <td>-1.230</td>\n",
       "      <td>-0.330</td>\n",
       "      <td>1.277</td>\n",
       "      <td>-0.749</td>\n",
       "      <td>0.406</td>\n",
       "    </tr>\n",
       "    <tr>\n",
       "      <th>3</th>\n",
       "      <td>1.025</td>\n",
       "      <td>-0.993</td>\n",
       "      <td>0.035</td>\n",
       "      <td>0.157</td>\n",
       "      <td>0.147</td>\n",
       "      <td>0.221</td>\n",
       "      <td>6.520</td>\n",
       "      <td>-6.758</td>\n",
       "      <td>0.157</td>\n",
       "      <td>0.0</td>\n",
       "      <td>0.0</td>\n",
       "      <td>0.875</td>\n",
       "      <td>0.766</td>\n",
       "      <td>-1.235</td>\n",
       "      <td>-0.328</td>\n",
       "      <td>1.284</td>\n",
       "      <td>-0.751</td>\n",
       "      <td>0.397</td>\n",
       "    </tr>\n",
       "    <tr>\n",
       "      <th>4</th>\n",
       "      <td>1.027</td>\n",
       "      <td>-0.995</td>\n",
       "      <td>0.037</td>\n",
       "      <td>0.156</td>\n",
       "      <td>0.147</td>\n",
       "      <td>0.224</td>\n",
       "      <td>6.596</td>\n",
       "      <td>-6.753</td>\n",
       "      <td>0.164</td>\n",
       "      <td>0.0</td>\n",
       "      <td>0.0</td>\n",
       "      <td>0.869</td>\n",
       "      <td>0.771</td>\n",
       "      <td>-1.238</td>\n",
       "      <td>-0.331</td>\n",
       "      <td>1.283</td>\n",
       "      <td>-0.753</td>\n",
       "      <td>0.405</td>\n",
       "    </tr>\n",
       "  </tbody>\n",
       "</table>\n",
       "</div>"
      ],
      "text/plain": [
       "  point_estimate               stderr                zstat                \\\n",
       "              T0     T1     T2     T0     T1     T2     T0     T1     T2   \n",
       "0          1.012 -0.985  0.037  0.158  0.147  0.224  6.420 -6.715  0.167   \n",
       "1          1.018 -0.985  0.037  0.160  0.145  0.224  6.371 -6.782  0.164   \n",
       "2          1.020 -0.990  0.038  0.156  0.146  0.224  6.534 -6.761  0.169   \n",
       "3          1.025 -0.993  0.035  0.157  0.147  0.221  6.520 -6.758  0.157   \n",
       "4          1.027 -0.995  0.037  0.156  0.147  0.224  6.596 -6.753  0.164   \n",
       "\n",
       "  pvalue             ci_lower               ci_upper                \n",
       "      T0   T1     T2       T0     T1     T2       T0     T1     T2  \n",
       "0    0.0  0.0  0.867    0.753 -1.227 -0.331    1.272 -0.744  0.406  \n",
       "1    0.0  0.0  0.869    0.755 -1.224 -0.331    1.281 -0.746  0.404  \n",
       "2    0.0  0.0  0.866    0.764 -1.230 -0.330    1.277 -0.749  0.406  \n",
       "3    0.0  0.0  0.875    0.766 -1.235 -0.328    1.284 -0.751  0.397  \n",
       "4    0.0  0.0  0.869    0.771 -1.238 -0.331    1.283 -0.753  0.405  "
      ]
     },
     "execution_count": 12,
     "metadata": {},
     "output_type": "execute_result"
    }
   ],
   "source": [
    "res.summary_frame().head()"
   ]
  },
  {
   "cell_type": "code",
   "execution_count": 13,
   "metadata": {},
   "outputs": [
    {
     "name": "stderr",
     "output_type": "stream",
     "text": [
      "C:\\ProgramData\\Anaconda3\\lib\\site-packages\\ipykernel_launcher.py:6: FutureWarning: The CausalForest class has been deprecated by the CausalForestDML; an upcoming release will remove support for the old class\n",
      "  \n"
     ]
    }
   ],
   "source": [
    "est2 = CausalForest(n_trees=4000, min_leaf_size=5,\n",
    "                    max_depth=50, subsample_ratio=subsample_ratio,\n",
    "                    model_T=LogisticRegression(C=1/(X.shape[0]*lambda_reg)),\n",
    "                    model_Y=Lasso(alpha=lambda_reg),\n",
    "                    discrete_treatment=True,\n",
    "                    random_state=123)\n",
    "est2.fit(Y, T, X=X, W=W)\n",
    "treatment_effects2 = est2.const_marginal_effect(X_test)\n",
    "te_lower2, te_upper2 = est2.const_marginal_effect_interval(X_test, alpha=.01)"
   ]
  },
  {
   "cell_type": "markdown",
   "metadata": {},
   "source": [
    "## 3.3. Performance Visualization"
   ]
  },
  {
   "cell_type": "code",
   "execution_count": 14,
   "metadata": {},
   "outputs": [
    {
     "data": {
      "image/png": "[encoded data removed]",
      "text/plain": [
       "<Figure size 1080x360 with 2 Axes>"
      ]
     },
     "metadata": {
      "needs_background": "light"
     },
     "output_type": "display_data"
    }
   ],
   "source": [
    "plt.figure(figsize=(15, 5))\n",
    "plt.subplot(1, 2, 1)\n",
    "plt.title(\"DiscreteTreatmentOrthoForest\")\n",
    "y = treatment_effects\n",
    "colors = ['b', 'r', 'g']\n",
    "for it in range(y.shape[1]):\n",
    "    plt.plot(X_test[:, 0], te_test[:, it], '--', label='True effect T={}'.format(it), color=colors[it])\n",
    "    plt.fill_between(X_test[:, 0], te_lower[:, it], te_upper[:, it], alpha=0.3, color='C{}'.format(it))\n",
    "    plt.plot(X_test, y[:, it], label='ORF estimate T={}'.format(it), color='C{}'.format(it))\n",
    "plt.ylabel(\"Treatment Effect\")\n",
    "plt.xlabel(\"x\")\n",
    "plt.legend()\n",
    "plt.subplot(1, 2, 2)\n",
    "plt.title(\"CausalForest\")\n",
    "y = treatment_effects2\n",
    "colors = ['b', 'r', 'g']\n",
    "for it in range(y.shape[1]):\n",
    "    plt.plot(X_test[:, 0], te_test[:, it], '--', label='True effect T={}'.format(it), color=colors[it])\n",
    "    plt.fill_between(X_test[:, 0], te_lower2[:, it], te_upper2[:, it], alpha=0.3, color='C{}'.format(it))\n",
    "    plt.plot(X_test, y[:, it], label='ORF estimate T={}'.format(it), color='C{}'.format(it))\n",
    "plt.ylabel(\"Treatment Effect\")\n",
    "plt.xlabel(\"x\")\n",
    "plt.legend()\n",
    "plt.show()"
   ]
  },
  {
   "cell_type": "markdown",
   "metadata": {},
   "source": [
    "# 4. Example Usage with Real Continuous Treatment Observational Data\n",
    "\n",
    "We applied our technique to Dominick’s dataset, a popular historical dataset of store-level orange juice prices and sales provided by University of Chicago Booth School of Business. \n",
    "\n",
    "The dataset is comprised of a large number of covariates $W$, but researchers might only be interested in learning the elasticity of demand as a function of a few variables $x$ such\n",
    "as income or education. \n",
    "\n",
    "We applied the `ContinuousTreatmentOrthoForest` to estimate orange juice price elasticity\n",
    "as a function of income, and our results, unveil the natural phenomenon that lower income consumers are more price-sensitive."
   ]
  },
  {
   "cell_type": "markdown",
   "metadata": {},
   "source": [
    "## 4.1. Data"
   ]
  },
  {
   "cell_type": "code",
   "execution_count": 31,
   "metadata": {},
   "outputs": [],
   "source": [
    "# A few more imports\n",
    "import os\n",
    "import pandas as pd\n",
    "import urllib.request\n",
    "from sklearn.preprocessing import StandardScaler"
   ]
  },
  {
   "cell_type": "code",
   "execution_count": 32,
   "metadata": {},
   "outputs": [
    {
     "data": {
      "text/html": [
       "<div>\n",
       "<style scoped>\n",
       "    .dataframe tbody tr th:only-of-type {\n",
       "        vertical-align: middle;\n",
       "    }\n",
       "\n",
       "    .dataframe tbody tr th {\n",
       "        vertical-align: top;\n",
       "    }\n",
       "\n",
       "    .dataframe thead th {\n",
       "        text-align: right;\n",
       "    }\n",
       "</style>\n",
       "<table border=\"1\" class=\"dataframe\">\n",
       "  <thead>\n",
       "    <tr style=\"text-align: right;\">\n",
       "      <th></th>\n",
       "      <th>store</th>\n",
       "      <th>brand</th>\n",
       "      <th>week</th>\n",
       "      <th>logmove</th>\n",
       "      <th>feat</th>\n",
       "      <th>price</th>\n",
       "      <th>AGE60</th>\n",
       "      <th>EDUC</th>\n",
       "      <th>ETHNIC</th>\n",
       "      <th>INCOME</th>\n",
       "      <th>HHLARGE</th>\n",
       "      <th>WORKWOM</th>\n",
       "      <th>HVAL150</th>\n",
       "      <th>SSTRDIST</th>\n",
       "      <th>SSTRVOL</th>\n",
       "      <th>CPDIST5</th>\n",
       "      <th>CPWVOL5</th>\n",
       "    </tr>\n",
       "  </thead>\n",
       "  <tbody>\n",
       "    <tr>\n",
       "      <th>0</th>\n",
       "      <td>2</td>\n",
       "      <td>tropicana</td>\n",
       "      <td>40</td>\n",
       "      <td>9.018695</td>\n",
       "      <td>0</td>\n",
       "      <td>3.87</td>\n",
       "      <td>0.232865</td>\n",
       "      <td>0.248935</td>\n",
       "      <td>0.11428</td>\n",
       "      <td>10.553205</td>\n",
       "      <td>0.103953</td>\n",
       "      <td>0.303585</td>\n",
       "      <td>0.463887</td>\n",
       "      <td>2.110122</td>\n",
       "      <td>1.142857</td>\n",
       "      <td>1.92728</td>\n",
       "      <td>0.376927</td>\n",
       "    </tr>\n",
       "    <tr>\n",
       "      <th>1</th>\n",
       "      <td>2</td>\n",
       "      <td>tropicana</td>\n",
       "      <td>46</td>\n",
       "      <td>8.723231</td>\n",
       "      <td>0</td>\n",
       "      <td>3.87</td>\n",
       "      <td>0.232865</td>\n",
       "      <td>0.248935</td>\n",
       "      <td>0.11428</td>\n",
       "      <td>10.553205</td>\n",
       "      <td>0.103953</td>\n",
       "      <td>0.303585</td>\n",
       "      <td>0.463887</td>\n",
       "      <td>2.110122</td>\n",
       "      <td>1.142857</td>\n",
       "      <td>1.92728</td>\n",
       "      <td>0.376927</td>\n",
       "    </tr>\n",
       "    <tr>\n",
       "      <th>2</th>\n",
       "      <td>2</td>\n",
       "      <td>tropicana</td>\n",
       "      <td>47</td>\n",
       "      <td>8.253228</td>\n",
       "      <td>0</td>\n",
       "      <td>3.87</td>\n",
       "      <td>0.232865</td>\n",
       "      <td>0.248935</td>\n",
       "      <td>0.11428</td>\n",
       "      <td>10.553205</td>\n",
       "      <td>0.103953</td>\n",
       "      <td>0.303585</td>\n",
       "      <td>0.463887</td>\n",
       "      <td>2.110122</td>\n",
       "      <td>1.142857</td>\n",
       "      <td>1.92728</td>\n",
       "      <td>0.376927</td>\n",
       "    </tr>\n",
       "    <tr>\n",
       "      <th>3</th>\n",
       "      <td>2</td>\n",
       "      <td>tropicana</td>\n",
       "      <td>48</td>\n",
       "      <td>8.987197</td>\n",
       "      <td>0</td>\n",
       "      <td>3.87</td>\n",
       "      <td>0.232865</td>\n",
       "      <td>0.248935</td>\n",
       "      <td>0.11428</td>\n",
       "      <td>10.553205</td>\n",
       "      <td>0.103953</td>\n",
       "      <td>0.303585</td>\n",
       "      <td>0.463887</td>\n",
       "      <td>2.110122</td>\n",
       "      <td>1.142857</td>\n",
       "      <td>1.92728</td>\n",
       "      <td>0.376927</td>\n",
       "    </tr>\n",
       "    <tr>\n",
       "      <th>4</th>\n",
       "      <td>2</td>\n",
       "      <td>tropicana</td>\n",
       "      <td>50</td>\n",
       "      <td>9.093357</td>\n",
       "      <td>0</td>\n",
       "      <td>3.87</td>\n",
       "      <td>0.232865</td>\n",
       "      <td>0.248935</td>\n",
       "      <td>0.11428</td>\n",
       "      <td>10.553205</td>\n",
       "      <td>0.103953</td>\n",
       "      <td>0.303585</td>\n",
       "      <td>0.463887</td>\n",
       "      <td>2.110122</td>\n",
       "      <td>1.142857</td>\n",
       "      <td>1.92728</td>\n",
       "      <td>0.376927</td>\n",
       "    </tr>\n",
       "  </tbody>\n",
       "</table>\n",
       "</div>"
      ],
      "text/plain": [
       "   store      brand  week   logmove  feat  price     AGE60      EDUC   ETHNIC  \\\n",
       "0      2  tropicana    40  9.018695     0   3.87  0.232865  0.248935  0.11428   \n",
       "1      2  tropicana    46  8.723231     0   3.87  0.232865  0.248935  0.11428   \n",
       "2      2  tropicana    47  8.253228     0   3.87  0.232865  0.248935  0.11428   \n",
       "3      2  tropicana    48  8.987197     0   3.87  0.232865  0.248935  0.11428   \n",
       "4      2  tropicana    50  9.093357     0   3.87  0.232865  0.248935  0.11428   \n",
       "\n",
       "      INCOME   HHLARGE   WORKWOM   HVAL150  SSTRDIST   SSTRVOL  CPDIST5  \\\n",
       "0  10.553205  0.103953  0.303585  0.463887  2.110122  1.142857  1.92728   \n",
       "1  10.553205  0.103953  0.303585  0.463887  2.110122  1.142857  1.92728   \n",
       "2  10.553205  0.103953  0.303585  0.463887  2.110122  1.142857  1.92728   \n",
       "3  10.553205  0.103953  0.303585  0.463887  2.110122  1.142857  1.92728   \n",
       "4  10.553205  0.103953  0.303585  0.463887  2.110122  1.142857  1.92728   \n",
       "\n",
       "    CPWVOL5  \n",
       "0  0.376927  \n",
       "1  0.376927  \n",
       "2  0.376927  \n",
       "3  0.376927  \n",
       "4  0.376927  "
      ]
     },
     "execution_count": 32,
     "metadata": {},
     "output_type": "execute_result"
    }
   ],
   "source": [
    "# Import the data\n",
    "file_name = \"oj_large.csv\"\n",
    "\n",
    "if not os.path.isfile(file_name):\n",
    "    print(\"Downloading file (this might take a few seconds)...\")\n",
    "    urllib.request.urlretrieve(\"https://msalicedatapublic.blob.core.windows.net/datasets/OrangeJuice/oj_large.csv\", file_name)\n",
    "oj_data = pd.read_csv(file_name)\n",
    "oj_data.head()"
   ]
  },
  {
   "cell_type": "code",
   "execution_count": 33,
   "metadata": {},
   "outputs": [],
   "source": [
    "# Prepare data\n",
    "Y = oj_data['logmove'].values\n",
    "T = np.log(oj_data[\"price\"]).values\n",
    "scaler = StandardScaler()\n",
    "W1 = scaler.fit_transform(oj_data[[c for c in oj_data.columns if c not in ['price', 'logmove', 'brand', 'week', 'store']]].values)\n",
    "W2 = pd.get_dummies(oj_data[['brand']]).values\n",
    "W = np.concatenate([W1, W2], axis=1)\n",
    "X = oj_data[['INCOME']].values"
   ]
  },
  {
   "cell_type": "markdown",
   "metadata": {},
   "source": [
    "## 4.2. Train Estimator"
   ]
  },
  {
   "cell_type": "code",
   "execution_count": 34,
   "metadata": {},
   "outputs": [],
   "source": [
    "# Define some parameters\n",
    "n_trees = 1000\n",
    "min_leaf_size = 50\n",
    "max_depth = 20\n",
    "subsample_ratio = 0.04"
   ]
  },
  {
   "cell_type": "code",
   "execution_count": 35,
   "metadata": {},
   "outputs": [],
   "source": [
    "est = DMLOrthoForest(\n",
    "        n_trees=n_trees, min_leaf_size=min_leaf_size, max_depth=max_depth, \n",
    "        subsample_ratio=subsample_ratio,\n",
    "        model_T=Lasso(alpha=0.1),\n",
    "        model_Y=Lasso(alpha=0.1),\n",
    "        model_T_final=WeightedLassoCVWrapper(cv=3), \n",
    "        model_Y_final=WeightedLassoCVWrapper(cv=3)\n",
    "       )"
   ]
  },
  {
   "cell_type": "code",
   "execution_count": 36,
   "metadata": {
    "scrolled": true
   },
   "outputs": [
    {
     "name": "stderr",
     "output_type": "stream",
     "text": [
      "[Parallel(n_jobs=-1)]: Using backend LokyBackend with 8 concurrent workers.\n",
      "[Parallel(n_jobs=-1)]: Done  16 tasks      | elapsed:   12.3s\n",
      "[Parallel(n_jobs=-1)]: Done 232 tasks      | elapsed:   13.2s\n",
      "[Parallel(n_jobs=-1)]: Done 1000 out of 1000 | elapsed:   14.7s finished\n",
      "[Parallel(n_jobs=-1)]: Using backend LokyBackend with 8 concurrent workers.\n",
      "[Parallel(n_jobs=-1)]: Done  16 tasks      | elapsed:    0.1s\n",
      "[Parallel(n_jobs=-1)]: Done 624 tasks      | elapsed:    1.5s\n",
      "[Parallel(n_jobs=-1)]: Done 1000 out of 1000 | elapsed:    2.5s finished\n"
     ]
    },
    {
     "data": {
      "text/plain": [
       "<econml.ortho_forest.DMLOrthoForest at 0x11e1dac6ec8>"
      ]
     },
     "execution_count": 36,
     "metadata": {},
     "output_type": "execute_result"
    }
   ],
   "source": [
    "est.fit(Y, T, X=X, W=W)"
   ]
  },
  {
   "cell_type": "code",
   "execution_count": 37,
   "metadata": {},
   "outputs": [],
   "source": [
    "min_income = 10.0 \n",
    "max_income = 11.1\n",
    "delta = (max_income - min_income) / 100\n",
    "X_test = np.arange(min_income, max_income + delta - 0.001, delta).reshape(-1, 1)"
   ]
  },
  {
   "cell_type": "code",
   "execution_count": 38,
   "metadata": {},
   "outputs": [
    {
     "name": "stderr",
     "output_type": "stream",
     "text": [
      "[Parallel(n_jobs=-1)]: Using backend LokyBackend with 8 concurrent workers.\n",
      "[Parallel(n_jobs=-1)]: Done  16 tasks      | elapsed:   16.9s\n",
      "[Parallel(n_jobs=-1)]: Done 101 out of 101 | elapsed:   34.4s finished\n"
     ]
    }
   ],
   "source": [
    "# Calculate marginal treatment effects\n",
    "treatment_effects = est.const_marginal_effect(X_test)"
   ]
  },
  {
   "cell_type": "code",
   "execution_count": 39,
   "metadata": {},
   "outputs": [
    {
     "name": "stderr",
     "output_type": "stream",
     "text": [
      "[Parallel(n_jobs=-1)]: Using backend LokyBackend with 8 concurrent workers.\n",
      "[Parallel(n_jobs=-1)]: Done  16 tasks      | elapsed:    6.0s\n",
      "[Parallel(n_jobs=-1)]: Done 101 out of 101 | elapsed:   24.7s finished\n"
     ]
    }
   ],
   "source": [
    "# Calculate default (90%) marginal confidence intervals for the test data\n",
    "te_upper, te_lower = est.const_marginal_effect_interval(X_test)"
   ]
  },
  {
   "cell_type": "code",
   "execution_count": 40,
   "metadata": {},
   "outputs": [
    {
     "name": "stderr",
     "output_type": "stream",
     "text": [
      "[Parallel(n_jobs=-1)]: Using backend LokyBackend with 8 concurrent workers.\n",
      "[Parallel(n_jobs=-1)]: Done  16 tasks      | elapsed:    9.6s\n",
      "[Parallel(n_jobs=-1)]: Done 408 tasks      | elapsed:   10.2s\n",
      "[Parallel(n_jobs=-1)]: Done 1000 out of 1000 | elapsed:   10.9s finished\n",
      "[Parallel(n_jobs=-1)]: Using backend LokyBackend with 8 concurrent workers.\n",
      "[Parallel(n_jobs=-1)]: Done  16 tasks      | elapsed:    0.0s\n",
      "[Parallel(n_jobs=-1)]: Done 824 tasks      | elapsed:    0.8s\n",
      "[Parallel(n_jobs=-1)]: Done 1000 out of 1000 | elapsed:    1.1s finished\n",
      "[Parallel(n_jobs=-1)]: Using backend LokyBackend with 8 concurrent workers.\n",
      "[Parallel(n_jobs=-1)]: Done  16 tasks      | elapsed:    9.9s\n",
      "[Parallel(n_jobs=-1)]: Done 101 out of 101 | elapsed:   12.5s finished\n",
      "[Parallel(n_jobs=-1)]: Using backend LokyBackend with 8 concurrent workers.\n",
      "[Parallel(n_jobs=-1)]: Done  16 tasks      | elapsed:    4.0s\n",
      "[Parallel(n_jobs=-1)]: Done 101 out of 101 | elapsed:    9.4s finished\n"
     ]
    }
   ],
   "source": [
    "est2 = CausalForest(n_trees=n_trees, min_leaf_size=min_leaf_size, max_depth=max_depth,\n",
    "                    subsample_ratio=subsample_ratio,\n",
    "                    model_T=WeightedLassoCVWrapper(cv=3),\n",
    "                    model_Y=WeightedLassoCVWrapper(cv=3),\n",
    "                    random_state=123)\n",
    "est2.fit(Y, T, X=X, W=W)\n",
    "treatment_effects2 = est2.effect(X_test)\n",
    "te_lower2, te_upper2 = est2.effect_interval(X_test)"
   ]
  },
  {
   "cell_type": "markdown",
   "metadata": {},
   "source": [
    "## 4.3. Performance Visualization"
   ]
  },
  {
   "cell_type": "code",
   "execution_count": 41,
   "metadata": {},
   "outputs": [
    {
     "data": {
      "image/png": "[encoded data removed]",
      "text/plain": [
       "<Figure size 1080x360 with 2 Axes>"
      ]
     },
     "metadata": {
      "needs_background": "light"
     },
     "output_type": "display_data"
    }
   ],
   "source": [
    "# Plot Orange Juice elasticity as a function of income\n",
    "plt.figure(figsize=(15, 5))\n",
    "plt.subplot(1, 2, 1)\n",
    "plt.plot(X_test.flatten(), treatment_effects, label=\"OJ Elasticity\")\n",
    "plt.fill_between(X_test.flatten(), te_lower, te_upper, label=\"90% BLB CI\", alpha=0.3)\n",
    "plt.xlabel(r'$\\log$(Income)')\n",
    "plt.ylabel('Orange Juice Elasticity')\n",
    "plt.legend()\n",
    "plt.title(\"Orange Juice Elasticity vs Income: ContinuousTreatmentOrthoForest\")\n",
    "plt.subplot(1, 2, 2)\n",
    "plt.plot(X_test.flatten(), treatment_effects2, label=\"OJ Elasticity\")\n",
    "plt.fill_between(X_test.flatten(), te_lower2, te_upper2, label=\"90% BLB CI\", alpha=0.3)\n",
    "plt.xlabel(r'$\\log$(Income)')\n",
    "plt.ylabel('Orange Juice Elasticity')\n",
    "plt.legend()\n",
    "plt.title(\"Orange Juice Elasticity vs Income: CausalForest\")\n",
    "plt.show()"
   ]
  },
  {
   "cell_type": "code",
   "execution_count": null,
   "metadata": {},
   "outputs": [],
   "source": []
  }
 ],
 "metadata": {
  "kernelspec": {
   "display_name": "Python 3",
   "language": "python",
   "name": "python3"
  },
  "language_info": {
   "codemirror_mode": {
    "name": "ipython",
    "version": 3
   },
   "file_extension": ".py",
   "mimetype": "text/x-python",
   "name": "python",
   "nbconvert_exporter": "python",
   "pygments_lexer": "ipython3",
   "version": "3.7.1"
  }
 },
 "nbformat": 4,
 "nbformat_minor": 2
}

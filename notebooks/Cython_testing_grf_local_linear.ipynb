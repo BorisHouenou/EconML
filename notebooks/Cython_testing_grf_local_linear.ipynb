{
 "cells": [
  {
   "cell_type": "code",
   "execution_count": 1,
   "metadata": {},
   "outputs": [],
   "source": [
    "import numpy as np\n",
    "import scipy.special\n",
    "np.random.seed(123)\n",
    "n_samples = 1000\n",
    "n_features = 100\n",
    "n_treatments = 1\n",
    "n_outputs = 1\n",
    "true_te = lambda X: np.hstack([X[:, [0]]**2 + 1,\n",
    "                               np.ones((X.shape[0], n_treatments - 1))*np.arange(1, n_treatments).reshape(1, -1)])\n",
    "# true_te = lambda X: np.hstack([X[:, [0]]>0, \n",
    "#                                np.ones((X.shape[0], n_treatments - 1))*np.arange(1, n_treatments).reshape(1, -1)])\n",
    "# true_te = lambda X: np.hstack([(X[:, [0]]>0) * X[:, [0]],\n",
    "#                                np.ones((X.shape[0], n_treatments - 1))*np.arange(1, n_treatments).reshape(1, -1)])\n",
    "X = np.random.normal(0, 1, size=(n_samples, n_features))\n",
    "T = np.random.normal(0, 1, size=(n_samples, n_treatments))\n",
    "for t in range(n_treatments):\n",
    "    T[:, t] = np.random.binomial(1, scipy.special.expit(X[:, 0]))\n",
    "y = np.sum(true_te(X) * T, axis=1, keepdims=True) + X[:, [0]]\n",
    "X_test = X[:1000].copy()\n",
    "X_test[:, 0] = np.linspace(np.percentile(X[:, 0], 1), np.percentile(X[:, 0], 99), 1000)"
   ]
  },
  {
   "cell_type": "markdown",
   "metadata": {},
   "source": [
    "# Ensemble Estimator fit"
   ]
  },
  {
   "cell_type": "code",
   "execution_count": 2,
   "metadata": {},
   "outputs": [],
   "source": [
    "from econml.tree import Tree\n",
    "from econml.grf import LinearMomentGRFCriterionMSE, LinearMomentGRFCriterion\n",
    "from econml.tree import BestSplitter\n",
    "from econml.tree import DepthFirstTreeBuilder\n",
    "from sklearn.model_selection import train_test_split\n",
    "import numpy as np\n",
    "\n",
    "\n",
    "def fit(X, y, n_features, n_outputs, random_state, \n",
    "        criterion='het',\n",
    "        max_depth = 100,\n",
    "        min_samples_leaf = 100,\n",
    "        min_balancedness_tol = .3,\n",
    "        min_impurity_decrease=-np.inf, \n",
    "        subsample_fr=.7, replace=False, \n",
    "        honest=True):\n",
    "    min_samples_split = 2\n",
    "    min_weight_leaf = 0\n",
    "    max_features = n_features\n",
    "    n_outputs = n_outputs\n",
    "    n_samples = X.shape[0]\n",
    "\n",
    "    random_state = np.random.RandomState(random_state)\n",
    "    inds = random_state.choice(X.shape[0], int(np.ceil(subsample_fr * X.shape[0])), replace=replace)\n",
    "    sample_weight = np.zeros(X.shape[0])\n",
    "    sample_weight[inds] = 1\n",
    "\n",
    "    if honest:\n",
    "        Xtrain, Xval, ytrain, yval,\\\n",
    "            sample_weight_train, sample_weight_val, inds_train, inds_val = train_test_split(X, y, sample_weight,\n",
    "                                                                                            np.arange(X.shape[0]),\n",
    "                                                                                            train_size=.5,\n",
    "                                                                                            random_state=random_state)\n",
    "    else:\n",
    "        Xtrain, Xval, ytrain, yval,\\\n",
    "            sample_weight_train, sample_weight_val, inds_train, inds_val = X, X, y, y, sample_weight, sample_weight,\\\n",
    "            np.arange(X.shape[0]), np.arange(X.shape[0])\n",
    "    tree = Tree(n_features, n_outputs, store_jac=True)\n",
    "    if criterion == 'het':\n",
    "        criterion = LinearMomentGRFCriterion(n_outputs, n_features, Xtrain.shape[0], Xval.shape[0])\n",
    "    else:\n",
    "        criterion = LinearMomentGRFCriterionMSE(n_outputs, n_features, Xtrain.shape[0], Xval.shape[0])\n",
    "    splitter = BestSplitter(criterion, max_features, min_samples_leaf, min_weight_leaf,\n",
    "                            min_balancedness_tol, random_state)\n",
    "    builder = DepthFirstTreeBuilder(splitter, min_samples_split, min_samples_leaf, min_weight_leaf,\n",
    "                                    max_depth, min_impurity_decrease)\n",
    "    builder.build(tree, Xtrain, ytrain, Xval, yval, n_features,\n",
    "                  sample_weight=sample_weight_train, sample_weight_val=sample_weight_val, store_jac=True)\n",
    "    if honest:\n",
    "        sample_weight[inds_train] = 0\n",
    "    return tree, sample_weight"
   ]
  },
  {
   "cell_type": "code",
   "execution_count": 3,
   "metadata": {},
   "outputs": [
    {
     "name": "stderr",
     "output_type": "stream",
     "text": [
      "C:\\ProgramData\\Anaconda3\\lib\\site-packages\\ipykernel_launcher.py:2: DataConversionWarning: A column-vector y was passed when a 1d array was expected. Please change the shape of y to (n_samples,), for example using ravel().\n",
      "  \n",
      "[Parallel(n_jobs=-1)]: Using backend ThreadingBackend with 8 concurrent workers.\n",
      "[Parallel(n_jobs=-1)]: Done  34 tasks      | elapsed:    0.3s\n",
      "[Parallel(n_jobs=-1)]: Done 184 tasks      | elapsed:    2.0s\n",
      "[Parallel(n_jobs=-1)]: Done 434 tasks      | elapsed:    4.8s\n",
      "[Parallel(n_jobs=-1)]: Done 784 tasks      | elapsed:    9.4s\n",
      "[Parallel(n_jobs=-1)]: Done 1000 out of 1000 | elapsed:   12.0s finished\n"
     ]
    },
    {
     "data": {
      "text/plain": [
       "RandomForestRegressor(n_estimators=1000, n_jobs=-1, verbose=1)"
      ]
     },
     "execution_count": 3,
     "metadata": {},
     "output_type": "execute_result"
    }
   ],
   "source": [
    "from sklearn.ensemble import RandomForestRegressor\n",
    "RandomForestRegressor(verbose=1, n_jobs=-1, n_estimators=1000).fit(X, y)"
   ]
  },
  {
   "cell_type": "markdown",
   "metadata": {},
   "source": [
    "# Fitting without Local Linear"
   ]
  },
  {
   "cell_type": "code",
   "execution_count": 4,
   "metadata": {
    "scrolled": true
   },
   "outputs": [
    {
     "name": "stderr",
     "output_type": "stream",
     "text": [
      "[Parallel(n_jobs=-1)]: Using backend ThreadingBackend with 8 concurrent workers.\n",
      "[Parallel(n_jobs=-1)]: Done  34 tasks      | elapsed:    0.3s\n",
      "[Parallel(n_jobs=-1)]: Done 100 out of 100 | elapsed:    0.8s finished\n"
     ]
    }
   ],
   "source": [
    "from econml.utilities import cross_product\n",
    "from joblib.parallel import Parallel, delayed\n",
    "import warnings\n",
    "warnings.simplefilter('ignore')\n",
    "\n",
    "Taug = np.hstack([T, np.ones((T.shape[0], 1))])\n",
    "n_features = X.shape[1]\n",
    "n_outputs = Taug.shape[1]\n",
    "alpha = y * Taug\n",
    "pointJ = cross_product(Taug, Taug)\n",
    "Data = np.asfortranarray(np.hstack([X, alpha, pointJ]))\n",
    "random_state = np.random.RandomState(123)\n",
    "forest = Parallel(n_jobs=-1, backend='threading', verbose=1)(\n",
    "                    delayed(fit)(Data, y, n_features, n_outputs,\n",
    "                                 random_state.randint(np.iinfo(np.int32).max),\n",
    "                                 criterion='mse',\n",
    "                                 max_depth = 10,\n",
    "                                 min_samples_leaf = 20,\n",
    "                                 min_balancedness_tol = .3,\n",
    "                                 min_impurity_decrease=-np.inf,\n",
    "                                 subsample_fr=.9, replace=False, honest=True) for _ in range(100))"
   ]
  },
  {
   "cell_type": "code",
   "execution_count": 5,
   "metadata": {},
   "outputs": [
    {
     "name": "stderr",
     "output_type": "stream",
     "text": [
      "[Parallel(n_jobs=-1)]: Using backend ThreadingBackend with 8 concurrent workers.\n",
      "[Parallel(n_jobs=-1)]: Done  34 tasks      | elapsed:    0.0s\n",
      "[Parallel(n_jobs=-1)]: Done 100 out of 100 | elapsed:    0.0s finished\n"
     ]
    },
    {
     "data": {
      "image/png": "[encoded data removed]",
      "text/plain": [
       "<Figure size 432x288 with 1 Axes>"
      ]
     },
     "metadata": {
      "needs_background": "light"
     },
     "output_type": "display_data"
    }
   ],
   "source": [
    "import matplotlib.pyplot as plt\n",
    "plt.plot(X_test[:, 0],\n",
    "         np.mean(Parallel(n_jobs=-1, backend='threading', verbose=1)(delayed(tree.predict)(X_test)\n",
    "                 for tree, _ in forest), axis=0)[:, :-1])\n",
    "plt.plot(X_test[:, 0], true_te(X_test))\n",
    "plt.show()"
   ]
  },
  {
   "cell_type": "code",
   "execution_count": 6,
   "metadata": {},
   "outputs": [
    {
     "name": "stderr",
     "output_type": "stream",
     "text": [
      "[Parallel(n_jobs=-1)]: Using backend ThreadingBackend with 8 concurrent workers.\n",
      "[Parallel(n_jobs=-1)]: Done  34 tasks      | elapsed:    0.0s\n",
      "[Parallel(n_jobs=-1)]: Done 100 out of 100 | elapsed:    0.0s finished\n"
     ]
    },
    {
     "data": {
      "image/png": "[encoded data removed]",
      "text/plain": [
       "<Figure size 432x288 with 1 Axes>"
      ]
     },
     "metadata": {
      "needs_background": "light"
     },
     "output_type": "display_data"
    }
   ],
   "source": [
    "plt.plot(np.mean(Parallel(n_jobs=-1, backend='threading', verbose=1)(\n",
    "    delayed(tree.compute_feature_importances)(normalize=True) for tree, _ in forest), axis=0))\n",
    "plt.show()"
   ]
  },
  {
   "cell_type": "code",
   "execution_count": 7,
   "metadata": {},
   "outputs": [
    {
     "name": "stderr",
     "output_type": "stream",
     "text": [
      "[Parallel(n_jobs=-1)]: Using backend ThreadingBackend with 8 concurrent workers.\n",
      "[Parallel(n_jobs=-1)]: Done  34 tasks      | elapsed:    0.0s\n",
      "[Parallel(n_jobs=-1)]: Done 100 out of 100 | elapsed:    0.0s finished\n"
     ]
    },
    {
     "data": {
      "image/png": "[encoded data removed]",
      "text/plain": [
       "<Figure size 432x288 with 1 Axes>"
      ]
     },
     "metadata": {
      "needs_background": "light"
     },
     "output_type": "display_data"
    }
   ],
   "source": [
    "plt.plot(np.mean(Parallel(n_jobs=-1, backend='threading', verbose=1)(\n",
    "    delayed(tree.compute_feature_heterogeneity_importances)(normalize=True) for tree, _ in forest), axis=0))\n",
    "plt.show()"
   ]
  },
  {
   "cell_type": "code",
   "execution_count": 8,
   "metadata": {},
   "outputs": [
    {
     "name": "stderr",
     "output_type": "stream",
     "text": [
      "[Parallel(n_jobs=-1)]: Using backend ThreadingBackend with 8 concurrent workers.\n",
      "[Parallel(n_jobs=-1)]: Done  34 tasks      | elapsed:    0.0s\n",
      "[Parallel(n_jobs=-1)]: Done 100 out of 100 | elapsed:    0.0s finished\n",
      "[Parallel(n_jobs=-1)]: Using backend ThreadingBackend with 8 concurrent workers.\n",
      "[Parallel(n_jobs=-1)]: Done  34 tasks      | elapsed:    0.0s\n",
      "[Parallel(n_jobs=-1)]: Done 100 out of 100 | elapsed:    0.0s finished\n"
     ]
    }
   ],
   "source": [
    "alpha_test_tree = np.mean(Parallel(n_jobs=-1, backend='threading', verbose=1)(\n",
    "    delayed(tree.predict_precond)(X_test) for tree, _ in forest), axis=0)\n",
    "J_test_tree = np.mean(Parallel(n_jobs=-1, backend='threading', verbose=1)(\n",
    "    delayed(tree.predict_jac)(X_test) for tree, _ in forest), axis=0)\n",
    "pred_test_tree = np.einsum('ijk,ik->ij',\n",
    "                           np.linalg.pinv(J_test_tree.reshape(-1, alpha_test_tree.shape[1], alpha_test_tree.shape[1])),\n",
    "                           alpha_test_tree)"
   ]
  },
  {
   "cell_type": "code",
   "execution_count": 9,
   "metadata": {},
   "outputs": [
    {
     "data": {
      "image/png": "[encoded data removed]",
      "text/plain": [
       "<Figure size 432x288 with 1 Axes>"
      ]
     },
     "metadata": {
      "needs_background": "light"
     },
     "output_type": "display_data"
    }
   ],
   "source": [
    "###### import matplotlib.pyplot as plt\n",
    "plt.plot(X_test[:, 0], pred_test_tree[:, :-1])\n",
    "plt.plot(X_test[:, 0], true_te(X_test))\n",
    "plt.show()"
   ]
  },
  {
   "cell_type": "markdown",
   "metadata": {},
   "source": [
    "# Adding a Local Polynomial Correction"
   ]
  },
  {
   "cell_type": "code",
   "execution_count": 20,
   "metadata": {},
   "outputs": [],
   "source": [
    "# X = np.hstack([X, X**2])\n",
    "# X_test = np.hstack([X_test, X_test**2])"
   ]
  },
  {
   "cell_type": "markdown",
   "metadata": {},
   "source": [
    "# Fit with Local Correction"
   ]
  },
  {
   "cell_type": "code",
   "execution_count": 10,
   "metadata": {},
   "outputs": [
    {
     "name": "stderr",
     "output_type": "stream",
     "text": [
      "[Parallel(n_jobs=-1)]: Using backend ThreadingBackend with 8 concurrent workers.\n",
      "[Parallel(n_jobs=-1)]: Done  34 tasks      | elapsed:    9.1s\n",
      "[Parallel(n_jobs=-1)]: Done 100 out of 100 | elapsed:   23.8s finished\n"
     ]
    }
   ],
   "source": [
    "from econml.utilities import cross_product\n",
    "from sklearn.preprocessing import OneHotEncoder, LabelEncoder\n",
    "\n",
    "\n",
    "Taug = np.hstack([cross_product(X, T), T, np.ones((T.shape[0], 1))])\n",
    "n_features = X.shape[1]\n",
    "n_outputs = Taug.shape[1]\n",
    "alpha = y * Taug\n",
    "lambda_reg = n_features * .01\n",
    "penalty = np.zeros(Taug.shape[1])\n",
    "penalty[:n_features*n_treatments] = 1\n",
    "penalty = np.diag(penalty)\n",
    "pointJ = cross_product(Taug, Taug)\n",
    "\n",
    "def local_linear_params(tree, X, alpha, pointJ, sample_weight):\n",
    "    mask = sample_weight > 0\n",
    "    X, alpha, pointJ = X[mask], alpha[mask], pointJ[mask]\n",
    "    encoder = LabelEncoder()\n",
    "    leafs = encoder.fit_transform(tree.apply(X))\n",
    "    leafs_ohe = OneHotEncoder(sparse=False).fit_transform(leafs.reshape(-1, 1))\n",
    "    leafs_size = np.sum(leafs_ohe, axis=0)\n",
    "    leaf_penalty = (penalty.reshape(1, -1) * \n",
    "                    (lambda_reg / np.sqrt(leafs_size)).reshape(-1, 1)).reshape(-1, n_outputs, n_outputs)\n",
    "    leaf_pointJ = np.mean(cross_product(pointJ, leafs_ohe), axis=0).reshape(-1, n_outputs, n_outputs)\n",
    "    leaf_alpha = np.mean(cross_product(alpha, leafs_ohe), axis=0).reshape(-1, n_outputs)\n",
    "    leaf_param = np.einsum('ijk,ik->ij', np.linalg.pinv(leaf_pointJ + leaf_penalty), leaf_alpha)\n",
    "    return tree, encoder, leaf_param, leaf_alpha, leaf_pointJ + leaf_penalty\n",
    "\n",
    "res = Parallel(n_jobs=-1, backend='threading', verbose=1)(\n",
    "    delayed(local_linear_params)(tree, X, alpha, pointJ, sample_weight)\n",
    "                 for tree, sample_weight in forest)"
   ]
  },
  {
   "cell_type": "markdown",
   "metadata": {},
   "source": [
    "# Predicting with Local Linear"
   ]
  },
  {
   "cell_type": "code",
   "execution_count": 11,
   "metadata": {},
   "outputs": [
    {
     "name": "stderr",
     "output_type": "stream",
     "text": [
      "[Parallel(n_jobs=-1)]: Using backend ThreadingBackend with 8 concurrent workers.\n",
      "[Parallel(n_jobs=-1)]: Done  34 tasks      | elapsed:    0.0s\n",
      "[Parallel(n_jobs=-1)]: Done 100 out of 100 | elapsed:    0.1s finished\n"
     ]
    }
   ],
   "source": [
    "def local_linear_predict(X_test, tree, encoder, leaf_param, n_treatments):\n",
    "    pred_test = np.zeros((X_test.shape[0], n_treatments))\n",
    "    all_params = leaf_param[encoder.transform(tree.apply(X_test))]\n",
    "    for t in range(n_treatments):\n",
    "        start = t * n_features\n",
    "        end = start + n_features\n",
    "        params_test = all_params[:, start:end]\n",
    "        params_test = np.hstack([params_test, all_params[:, [n_features * n_treatments + t]]])\n",
    "        pred_test[:, t] = np.sum(params_test * np.hstack([X_test, np.ones((X_test.shape[0], 1))]), axis=1)\n",
    "    return pred_test\n",
    "\n",
    "pred_test = np.mean(Parallel(n_jobs=-1, backend='threading', verbose=1)(\n",
    "                delayed(local_linear_predict)(X_test, tree, encoder, leaf_param, n_treatments)\n",
    "                 for tree, encoder, leaf_param, _, _ in res), axis=0)"
   ]
  },
  {
   "cell_type": "code",
   "execution_count": 12,
   "metadata": {},
   "outputs": [
    {
     "data": {
      "image/png": "[encoded data removed]",
      "text/plain": [
       "<Figure size 432x288 with 1 Axes>"
      ]
     },
     "metadata": {
      "needs_background": "light"
     },
     "output_type": "display_data"
    }
   ],
   "source": [
    "import matplotlib.pyplot as plt\n",
    "plt.plot(X_test[:, 0], pred_test)\n",
    "plt.plot(X_test[:, 0], true_te(X_test))\n",
    "plt.show()"
   ]
  },
  {
   "cell_type": "code",
   "execution_count": 18,
   "metadata": {},
   "outputs": [
    {
     "data": {
      "text/plain": [
       "[array([[ 2.27669060e-01,  4.75874895e-03,  1.83687212e-03, ...,\n",
       "         -3.41256618e-03, -1.40823798e-02, -1.40823798e-02],\n",
       "        [ 4.75874895e-03,  2.07804941e-01, -1.32875478e-03, ...,\n",
       "         -1.70182420e-04, -2.46897594e-03, -2.46897594e-03],\n",
       "        [ 1.83687212e-03, -1.32875478e-03,  2.02633994e-01, ...,\n",
       "          4.97865927e-04, -9.42036615e-04, -9.42036615e-04],\n",
       "        ...,\n",
       "        [-3.41256618e-03, -1.70182420e-04,  4.97865927e-04, ...,\n",
       "          2.05315435e-01,  1.28793352e-03,  1.28793352e-03],\n",
       "        [-1.40823798e-02, -2.46897594e-03, -9.42036615e-04, ...,\n",
       "          1.28793352e-03,  7.48900605e-03,  7.48900605e-03],\n",
       "        [-1.40823798e-02, -2.46897594e-03, -9.42036615e-04, ...,\n",
       "          1.28793352e-03,  7.48900605e-03,  5.69666870e-02]]),\n",
       " array([[ 2.27669060e-01,  4.75874895e-03,  1.83687212e-03, ...,\n",
       "         -3.41256618e-03, -1.40823798e-02, -1.40823798e-02],\n",
       "        [ 4.75874895e-03,  2.07804941e-01, -1.32875478e-03, ...,\n",
       "         -1.70182420e-04, -2.46897594e-03, -2.46897594e-03],\n",
       "        [ 1.83687212e-03, -1.32875478e-03,  2.02633994e-01, ...,\n",
       "          4.97865927e-04, -9.42036615e-04, -9.42036615e-04],\n",
       "        ...,\n",
       "        [-3.41256618e-03, -1.70182420e-04,  4.97865927e-04, ...,\n",
       "          2.05315435e-01,  1.28793352e-03,  1.28793352e-03],\n",
       "        [-1.40823798e-02, -2.46897594e-03, -9.42036615e-04, ...,\n",
       "          1.28793352e-03,  7.48900605e-03,  7.48900605e-03],\n",
       "        [-1.40823798e-02, -2.46897594e-03, -9.42036615e-04, ...,\n",
       "          1.28793352e-03,  7.48900605e-03,  5.69666870e-02]]),\n",
       " array([[ 2.27669060e-01,  4.75874895e-03,  1.83687212e-03, ...,\n",
       "         -3.41256618e-03, -1.40823798e-02, -1.40823798e-02],\n",
       "        [ 4.75874895e-03,  2.07804941e-01, -1.32875478e-03, ...,\n",
       "         -1.70182420e-04, -2.46897594e-03, -2.46897594e-03],\n",
       "        [ 1.83687212e-03, -1.32875478e-03,  2.02633994e-01, ...,\n",
       "          4.97865927e-04, -9.42036615e-04, -9.42036615e-04],\n",
       "        ...,\n",
       "        [-3.41256618e-03, -1.70182420e-04,  4.97865927e-04, ...,\n",
       "          2.05315435e-01,  1.28793352e-03,  1.28793352e-03],\n",
       "        [-1.40823798e-02, -2.46897594e-03, -9.42036615e-04, ...,\n",
       "          1.28793352e-03,  7.48900605e-03,  7.48900605e-03],\n",
       "        [-1.40823798e-02, -2.46897594e-03, -9.42036615e-04, ...,\n",
       "          1.28793352e-03,  7.48900605e-03,  5.69666870e-02]]),\n",
       " array([[ 2.27669060e-01,  4.75874895e-03,  1.83687212e-03, ...,\n",
       "         -3.41256618e-03, -1.40823798e-02, -1.40823798e-02],\n",
       "        [ 4.75874895e-03,  2.07804941e-01, -1.32875478e-03, ...,\n",
       "         -1.70182420e-04, -2.46897594e-03, -2.46897594e-03],\n",
       "        [ 1.83687212e-03, -1.32875478e-03,  2.02633994e-01, ...,\n",
       "          4.97865927e-04, -9.42036615e-04, -9.42036615e-04],\n",
       "        ...,\n",
       "        [-3.41256618e-03, -1.70182420e-04,  4.97865927e-04, ...,\n",
       "          2.05315435e-01,  1.28793352e-03,  1.28793352e-03],\n",
       "        [-1.40823798e-02, -2.46897594e-03, -9.42036615e-04, ...,\n",
       "          1.28793352e-03,  7.48900605e-03,  7.48900605e-03],\n",
       "        [-1.40823798e-02, -2.46897594e-03, -9.42036615e-04, ...,\n",
       "          1.28793352e-03,  7.48900605e-03,  5.69666870e-02]]),\n",
       " array([[ 2.27669060e-01,  4.75874895e-03,  1.83687212e-03, ...,\n",
       "         -3.41256618e-03, -1.40823798e-02, -1.40823798e-02],\n",
       "        [ 4.75874895e-03,  2.07804941e-01, -1.32875478e-03, ...,\n",
       "         -1.70182420e-04, -2.46897594e-03, -2.46897594e-03],\n",
       "        [ 1.83687212e-03, -1.32875478e-03,  2.02633994e-01, ...,\n",
       "          4.97865927e-04, -9.42036615e-04, -9.42036615e-04],\n",
       "        ...,\n",
       "        [-3.41256618e-03, -1.70182420e-04,  4.97865927e-04, ...,\n",
       "          2.05315435e-01,  1.28793352e-03,  1.28793352e-03],\n",
       "        [-1.40823798e-02, -2.46897594e-03, -9.42036615e-04, ...,\n",
       "          1.28793352e-03,  7.48900605e-03,  7.48900605e-03],\n",
       "        [-1.40823798e-02, -2.46897594e-03, -9.42036615e-04, ...,\n",
       "          1.28793352e-03,  7.48900605e-03,  5.69666870e-02]]),\n",
       " array([[ 2.27669060e-01,  4.75874895e-03,  1.83687212e-03, ...,\n",
       "         -3.41256618e-03, -1.40823798e-02, -1.40823798e-02],\n",
       "        [ 4.75874895e-03,  2.07804941e-01, -1.32875478e-03, ...,\n",
       "         -1.70182420e-04, -2.46897594e-03, -2.46897594e-03],\n",
       "        [ 1.83687212e-03, -1.32875478e-03,  2.02633994e-01, ...,\n",
       "          4.97865927e-04, -9.42036615e-04, -9.42036615e-04],\n",
       "        ...,\n",
       "        [-3.41256618e-03, -1.70182420e-04,  4.97865927e-04, ...,\n",
       "          2.05315435e-01,  1.28793352e-03,  1.28793352e-03],\n",
       "        [-1.40823798e-02, -2.46897594e-03, -9.42036615e-04, ...,\n",
       "          1.28793352e-03,  7.48900605e-03,  7.48900605e-03],\n",
       "        [-1.40823798e-02, -2.46897594e-03, -9.42036615e-04, ...,\n",
       "          1.28793352e-03,  7.48900605e-03,  5.69666870e-02]]),\n",
       " array([[ 2.27669060e-01,  4.75874895e-03,  1.83687212e-03, ...,\n",
       "         -3.41256618e-03, -1.40823798e-02, -1.40823798e-02],\n",
       "        [ 4.75874895e-03,  2.07804941e-01, -1.32875478e-03, ...,\n",
       "         -1.70182420e-04, -2.46897594e-03, -2.46897594e-03],\n",
       "        [ 1.83687212e-03, -1.32875478e-03,  2.02633994e-01, ...,\n",
       "          4.97865927e-04, -9.42036615e-04, -9.42036615e-04],\n",
       "        ...,\n",
       "        [-3.41256618e-03, -1.70182420e-04,  4.97865927e-04, ...,\n",
       "          2.05315435e-01,  1.28793352e-03,  1.28793352e-03],\n",
       "        [-1.40823798e-02, -2.46897594e-03, -9.42036615e-04, ...,\n",
       "          1.28793352e-03,  7.48900605e-03,  7.48900605e-03],\n",
       "        [-1.40823798e-02, -2.46897594e-03, -9.42036615e-04, ...,\n",
       "          1.28793352e-03,  7.48900605e-03,  5.69666870e-02]]),\n",
       " array([[ 2.27669060e-01,  4.75874895e-03,  1.83687212e-03, ...,\n",
       "         -3.41256618e-03, -1.40823798e-02, -1.40823798e-02],\n",
       "        [ 4.75874895e-03,  2.07804941e-01, -1.32875478e-03, ...,\n",
       "         -1.70182420e-04, -2.46897594e-03, -2.46897594e-03],\n",
       "        [ 1.83687212e-03, -1.32875478e-03,  2.02633994e-01, ...,\n",
       "          4.97865927e-04, -9.42036615e-04, -9.42036615e-04],\n",
       "        ...,\n",
       "        [-3.41256618e-03, -1.70182420e-04,  4.97865927e-04, ...,\n",
       "          2.05315435e-01,  1.28793352e-03,  1.28793352e-03],\n",
       "        [-1.40823798e-02, -2.46897594e-03, -9.42036615e-04, ...,\n",
       "          1.28793352e-03,  7.48900605e-03,  7.48900605e-03],\n",
       "        [-1.40823798e-02, -2.46897594e-03, -9.42036615e-04, ...,\n",
       "          1.28793352e-03,  7.48900605e-03,  5.69666870e-02]]),\n",
       " array([[ 2.27669060e-01,  4.75874895e-03,  1.83687212e-03, ...,\n",
       "         -3.41256618e-03, -1.40823798e-02, -1.40823798e-02],\n",
       "        [ 4.75874895e-03,  2.07804941e-01, -1.32875478e-03, ...,\n",
       "         -1.70182420e-04, -2.46897594e-03, -2.46897594e-03],\n",
       "        [ 1.83687212e-03, -1.32875478e-03,  2.02633994e-01, ...,\n",
       "          4.97865927e-04, -9.42036615e-04, -9.42036615e-04],\n",
       "        ...,\n",
       "        [-3.41256618e-03, -1.70182420e-04,  4.97865927e-04, ...,\n",
       "          2.05315435e-01,  1.28793352e-03,  1.28793352e-03],\n",
       "        [-1.40823798e-02, -2.46897594e-03, -9.42036615e-04, ...,\n",
       "          1.28793352e-03,  7.48900605e-03,  7.48900605e-03],\n",
       "        [-1.40823798e-02, -2.46897594e-03, -9.42036615e-04, ...,\n",
       "          1.28793352e-03,  7.48900605e-03,  5.69666870e-02]]),\n",
       " array([[ 2.27669060e-01,  4.75874895e-03,  1.83687212e-03, ...,\n",
       "         -3.41256618e-03, -1.40823798e-02, -1.40823798e-02],\n",
       "        [ 4.75874895e-03,  2.07804941e-01, -1.32875478e-03, ...,\n",
       "         -1.70182420e-04, -2.46897594e-03, -2.46897594e-03],\n",
       "        [ 1.83687212e-03, -1.32875478e-03,  2.02633994e-01, ...,\n",
       "          4.97865927e-04, -9.42036615e-04, -9.42036615e-04],\n",
       "        ...,\n",
       "        [-3.41256618e-03, -1.70182420e-04,  4.97865927e-04, ...,\n",
       "          2.05315435e-01,  1.28793352e-03,  1.28793352e-03],\n",
       "        [-1.40823798e-02, -2.46897594e-03, -9.42036615e-04, ...,\n",
       "          1.28793352e-03,  7.48900605e-03,  7.48900605e-03],\n",
       "        [-1.40823798e-02, -2.46897594e-03, -9.42036615e-04, ...,\n",
       "          1.28793352e-03,  7.48900605e-03,  5.69666870e-02]])]"
      ]
     },
     "execution_count": 18,
     "metadata": {},
     "output_type": "execute_result"
    }
   ],
   "source": [
    "[A for A in grads[:10]]"
   ]
  },
  {
   "cell_type": "code",
   "execution_count": 20,
   "metadata": {},
   "outputs": [
    {
     "name": "stderr",
     "output_type": "stream",
     "text": [
      "[Parallel(n_jobs=-1)]: Using backend ThreadingBackend with 8 concurrent workers.\n",
      "[Parallel(n_jobs=-1)]: Done  34 tasks      | elapsed:    0.1s\n",
      "[Parallel(n_jobs=-1)]: Done 100 out of 100 | elapsed:    0.1s finished\n",
      "[Parallel(n_jobs=-1)]: Using backend ThreadingBackend with 8 concurrent workers.\n",
      "[Parallel(n_jobs=-1)]: Done  34 tasks      | elapsed:    0.2s\n",
      "[Parallel(n_jobs=-1)]: Done 100 out of 100 | elapsed:    4.4s finished\n"
     ]
    }
   ],
   "source": [
    "def local_linear_alpha_predict(X_test, tree, encoder, leaf_alpha):\n",
    "    leafs_test = encoder.transform(tree.apply(X_test))\n",
    "    return leaf_alpha[leafs_test]\n",
    "\n",
    "def local_linear_grad_predict(X_test, tree, encoder, leaf_grads):\n",
    "    leafs_test = encoder.transform(tree.apply(X_test))\n",
    "    return leaf_grads[leafs_test]\n",
    "\n",
    "alphas = np.mean(Parallel(n_jobs=-1, backend='threading', verbose=1)(\n",
    "                delayed(local_linear_alpha_predict)(X_test, tree, encoder, leaf_alpha)\n",
    "                 for tree, encoder, _, leaf_alpha, _ in res), axis=0)\n",
    "\n",
    "grads = np.mean(Parallel(n_jobs=-1, backend='threading', verbose=1)(\n",
    "                delayed(local_linear_grad_predict)(X_test, tree, encoder, leaf_grads)\n",
    "                 for tree, encoder, _, _, leaf_grads in res), axis=0)\n",
    "all_params = np.einsum('ijk,ik->ij', np.linalg.pinv(invgrads), alphas)\n",
    "pred_test = np.zeros((X_test.shape[0], n_treatments))\n",
    "for t in range(n_treatments):\n",
    "    start = t * n_features\n",
    "    end = start + n_features\n",
    "    params_test = all_params[:, start:end]\n",
    "    params_test = np.hstack([params_test, all_params[:, [n_features * n_treatments + t]]])\n",
    "    pred_test[:, t] = np.sum(params_test * np.hstack([X_test, np.ones((X_test.shape[0], 1))]), axis=1)"
   ]
  },
  {
   "cell_type": "code",
   "execution_count": null,
   "metadata": {},
   "outputs": [],
   "source": [
    "import matplotlib.pyplot as plt\n",
    "plt.plot(X_test[:, 0], pred_test)\n",
    "plt.plot(X_test[:, 0], true_te(X_test))\n",
    "plt.show()"
   ]
  },
  {
   "cell_type": "markdown",
   "metadata": {},
   "source": [
    "# Alternative: Fitting with local linear"
   ]
  },
  {
   "cell_type": "code",
   "execution_count": 900,
   "metadata": {},
   "outputs": [
    {
     "name": "stderr",
     "output_type": "stream",
     "text": [
      "[Parallel(n_jobs=-1)]: Using backend ThreadingBackend with 8 concurrent workers.\n",
      "[Parallel(n_jobs=-1)]: Done  34 tasks      | elapsed:   10.9s\n",
      "[Parallel(n_jobs=-1)]: Done 100 out of 100 | elapsed:   29.2s finished\n"
     ]
    }
   ],
   "source": [
    "from econml.utilities import cross_product\n",
    "from joblib.parallel import Parallel, delayed\n",
    "import warnings\n",
    "warnings.simplefilter('ignore')\n",
    "\n",
    "Taug = np.hstack([cross_product(X, T), T, np.ones((T.shape[0], 1))])\n",
    "n_features = X.shape[1]\n",
    "n_outputs = Taug.shape[1]\n",
    "alpha = y * Taug\n",
    "lambda_reg = 1\n",
    "penalty = np.zeros(Taug.shape[1])\n",
    "penalty[:n_features] = lambda_reg\n",
    "penalty = np.diag(penalty)\n",
    "pointJ = cross_product(Taug, Taug) + penalty.flatten().reshape(1, -1)\n",
    "Data = np.asfortranarray(np.hstack([X, alpha, pointJ]))\n",
    "random_state = np.random.RandomState(123)\n",
    "forest = Parallel(n_jobs=-1, backend='threading', verbose=1)(\n",
    "                    delayed(fit)(Data, y, n_features, n_outputs,\n",
    "                                 random_state.randint(np.iinfo(np.int32).max),\n",
    "                                 criterion='mse',\n",
    "                                 max_depth = 100,\n",
    "                                 min_samples_leaf = 100,\n",
    "                                 min_balancedness_tol = .3,\n",
    "                                 min_impurity_decrease = -np.inf,\n",
    "                                 subsample_fr=.9, replace=False, honest=True) for _ in range(100))"
   ]
  },
  {
   "cell_type": "code",
   "execution_count": 901,
   "metadata": {},
   "outputs": [
    {
     "name": "stderr",
     "output_type": "stream",
     "text": [
      "[Parallel(n_jobs=-1)]: Using backend ThreadingBackend with 8 concurrent workers.\n",
      "[Parallel(n_jobs=-1)]: Done  34 tasks      | elapsed:    0.3s\n",
      "[Parallel(n_jobs=-1)]: Done 100 out of 100 | elapsed:    0.5s finished\n"
     ]
    },
    {
     "data": {
      "image/png": "[encoded data removed]",
      "text/plain": [
       "<Figure size 432x288 with 1 Axes>"
      ]
     },
     "metadata": {
      "needs_background": "light"
     },
     "output_type": "display_data"
    }
   ],
   "source": [
    "import matplotlib.pyplot as plt\n",
    "all_params = np.mean(Parallel(n_jobs=-1, backend='threading', verbose=1)(delayed(tree.predict)(X_test)\n",
    "                                                                              for tree, _ in forest), axis=0)\n",
    "pred_test = np.zeros((X_test.shape[0], n_treatments))\n",
    "for t in range(n_treatments):\n",
    "    start = t * n_features\n",
    "    end = start + n_features\n",
    "    params_test = all_params[:, start:end]\n",
    "    params_test = np.hstack([params_test, all_params[:, [n_features * n_treatments + t]]])\n",
    "    pred_test[:, t] = np.sum(params_test * np.hstack([X_test, np.ones((X_test.shape[0], 1))]), axis=1)\n",
    "plt.plot(X_test[:, 0], pred_test)\n",
    "plt.plot(X_test[:, 0], true_te(X_test))\n",
    "plt.show()"
   ]
  },
  {
   "cell_type": "code",
   "execution_count": 806,
   "metadata": {},
   "outputs": [
    {
     "data": {
      "text/plain": [
       "(array([-2,  0], dtype=int64), array([9826, 8826], dtype=int64))"
      ]
     },
     "execution_count": 806,
     "metadata": {},
     "output_type": "execute_result"
    }
   ],
   "source": [
    "np.unique(np.concatenate([tree.feature for tree, _ in forest]), return_counts=True)"
   ]
  },
  {
   "cell_type": "code",
   "execution_count": 807,
   "metadata": {},
   "outputs": [
    {
     "name": "stderr",
     "output_type": "stream",
     "text": [
      "[Parallel(n_jobs=-1)]: Using backend ThreadingBackend with 8 concurrent workers.\n",
      "[Parallel(n_jobs=-1)]: Done  34 tasks      | elapsed:    0.0s\n",
      "[Parallel(n_jobs=-1)]: Done 184 tasks      | elapsed:    0.0s\n",
      "[Parallel(n_jobs=-1)]: Done 434 tasks      | elapsed:    0.0s\n",
      "[Parallel(n_jobs=-1)]: Done 784 tasks      | elapsed:    0.1s\n",
      "[Parallel(n_jobs=-1)]: Done 1000 out of 1000 | elapsed:    0.1s finished\n"
     ]
    },
    {
     "data": {
      "text/plain": [
       "array([0.99871029])"
      ]
     },
     "execution_count": 807,
     "metadata": {},
     "output_type": "execute_result"
    }
   ],
   "source": [
    "np.mean(Parallel(n_jobs=-1, backend='threading', verbose=1)(\n",
    "    delayed(tree.compute_feature_importances)(normalize=True) for tree, _ in forest), axis=0)"
   ]
  },
  {
   "cell_type": "code",
   "execution_count": 808,
   "metadata": {},
   "outputs": [
    {
     "name": "stderr",
     "output_type": "stream",
     "text": [
      "[Parallel(n_jobs=-1)]: Using backend ThreadingBackend with 8 concurrent workers.\n",
      "[Parallel(n_jobs=-1)]: Done  34 tasks      | elapsed:    0.0s\n",
      "[Parallel(n_jobs=-1)]: Done 184 tasks      | elapsed:    0.0s\n",
      "[Parallel(n_jobs=-1)]: Done 434 tasks      | elapsed:    0.0s\n",
      "[Parallel(n_jobs=-1)]: Done 784 tasks      | elapsed:    0.0s\n",
      "[Parallel(n_jobs=-1)]: Done 1000 out of 1000 | elapsed:    0.1s finished\n"
     ]
    },
    {
     "data": {
      "image/png": "[encoded data removed]",
      "text/plain": [
       "<Figure size 432x288 with 1 Axes>"
      ]
     },
     "metadata": {
      "needs_background": "light"
     },
     "output_type": "display_data"
    }
   ],
   "source": [
    "plt.hist(np.array(Parallel(n_jobs=-1, backend='threading', verbose=1)(\n",
    "    delayed(tree.compute_feature_heterogeneity_importances)(normalize=True) for tree, _ in forest)))\n",
    "plt.show()"
   ]
  },
  {
   "cell_type": "code",
   "execution_count": 809,
   "metadata": {},
   "outputs": [
    {
     "data": {
      "text/plain": [
       "array([ 6.39700849,  4.83440126, 10.25768954, 24.20370501,  2.64056136,\n",
       "        0.94695592,  1.24121445,  0.47126757,  0.69420705,  0.38578779])"
      ]
     },
     "execution_count": 809,
     "metadata": {},
     "output_type": "execute_result"
    }
   ],
   "source": [
    "forest[0][0].impurity[:10]"
   ]
  },
  {
   "cell_type": "markdown",
   "metadata": {},
   "source": [
    "### Inverse of average Jacobian instead of average of inverses"
   ]
  },
  {
   "cell_type": "code",
   "execution_count": 902,
   "metadata": {},
   "outputs": [
    {
     "name": "stderr",
     "output_type": "stream",
     "text": [
      "[Parallel(n_jobs=-1)]: Using backend ThreadingBackend with 8 concurrent workers.\n",
      "[Parallel(n_jobs=-1)]: Done  34 tasks      | elapsed:    0.1s\n",
      "[Parallel(n_jobs=-1)]: Done 100 out of 100 | elapsed:    0.2s finished\n",
      "[Parallel(n_jobs=-1)]: Using backend ThreadingBackend with 8 concurrent workers.\n",
      "[Parallel(n_jobs=-1)]: Done  34 tasks      | elapsed:    0.0s\n",
      "[Parallel(n_jobs=-1)]: Done 100 out of 100 | elapsed:    0.0s finished\n"
     ]
    }
   ],
   "source": [
    "alpha_test_tree = np.mean(Parallel(n_jobs=-1, backend='threading', verbose=1)(\n",
    "    delayed(tree.predict_precond)(X_test) for tree, _ in forest), axis=0)\n",
    "J_test_tree = np.mean(Parallel(n_jobs=-1, backend='threading', verbose=1)(\n",
    "    delayed(tree.predict_jac)(X_test) for tree, _ in forest), axis=0)\n",
    "all_params = np.einsum('ijk,ik->ij',\n",
    "                       np.linalg.pinv(J_test_tree.reshape(-1, alpha_test_tree.shape[1], alpha_test_tree.shape[1])),\n",
    "                       alpha_test_tree)\n",
    "pred_test = np.zeros((X_test.shape[0], n_treatments))\n",
    "for t in range(n_treatments):\n",
    "    start = t * n_features\n",
    "    end = start + n_features\n",
    "    params_test = all_params[:, start:end]\n",
    "    params_test = np.hstack([params_test, all_params[:, [n_features * n_treatments + t]]])\n",
    "    pred_test[:, t] = np.sum(params_test * np.hstack([X_test, np.ones((X_test.shape[0], 1))]), axis=1)"
   ]
  },
  {
   "cell_type": "code",
   "execution_count": 903,
   "metadata": {},
   "outputs": [
    {
     "data": {
      "image/png": "[encoded data removed]",
      "text/plain": [
       "<Figure size 432x288 with 1 Axes>"
      ]
     },
     "metadata": {
      "needs_background": "light"
     },
     "output_type": "display_data"
    }
   ],
   "source": [
    "###### import matplotlib.pyplot as plt\n",
    "plt.plot(X_test[:, 0], pred_test)\n",
    "plt.plot(X_test[:, 0], true_te(X_test))\n",
    "plt.show()"
   ]
  },
  {
   "cell_type": "code",
   "execution_count": null,
   "metadata": {},
   "outputs": [],
   "source": []
  }
 ],
 "metadata": {
  "kernelspec": {
   "display_name": "Python 3",
   "language": "python",
   "name": "python3"
  },
  "language_info": {
   "codemirror_mode": {
    "name": "ipython",
    "version": 3
   },
   "file_extension": ".py",
   "mimetype": "text/x-python",
   "name": "python",
   "nbconvert_exporter": "python",
   "pygments_lexer": "ipython3",
   "version": "3.7.4"
  }
 },
 "nbformat": 4,
 "nbformat_minor": 4
}

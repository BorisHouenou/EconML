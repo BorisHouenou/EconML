{
 "cells": [
  {
   "cell_type": "code",
   "execution_count": 2,
   "metadata": {},
   "outputs": [
    {
     "name": "stderr",
     "output_type": "stream",
     "text": [
      "C:\\ProgramData\\Anaconda3\\lib\\site-packages\\econml\\causal_forest.py:74: FutureWarning: This class will be removed from a future version of this package; please use econml.sklearn_extensions.linear_model.WeightedLassoCV instead.\n",
      "  model_Y=LassoCVWrapper(cv=3),\n"
     ]
    }
   ],
   "source": [
    "# Main imports\n",
    "from econml.ortho_forest import DMLOrthoForest, DROrthoForest\n",
    "from econml.causal_forest import CausalForest\n",
    "from econml.sklearn_extensions.linear_model import WeightedLassoCVWrapper, WeightedLasso, WeightedLassoCV\n",
    "\n",
    "# Helper imports\n",
    "import numpy as np\n",
    "from itertools import product\n",
    "from sklearn.linear_model import Lasso, LassoCV, LogisticRegression, LogisticRegressionCV\n",
    "import matplotlib.pyplot as plt\n",
    "\n",
    "%matplotlib inline"
   ]
  },
  {
   "cell_type": "code",
   "execution_count": 1,
   "metadata": {},
   "outputs": [],
   "source": [
    "# Treatment effect function\n",
    "def exp_te(x):\n",
    "    return np.exp(2*x[:, 0])\n",
    "# DGP constants\n",
    "np.random.seed(123)\n",
    "n = 20000\n",
    "n_w = 3\n",
    "support_size = 3\n",
    "n_x = 1\n",
    "# Outcome support\n",
    "support_Y = np.random.choice(range(n_w), size=support_size, replace=False)\n",
    "coefs_Y = np.random.uniform(0, 1, size=support_size)\n",
    "epsilon_sample = lambda n: np.random.uniform(-1, 1, size=n)\n",
    "# Treatment support \n",
    "support_T = support_Y\n",
    "coefs_T = np.random.uniform(0, 1, size=support_size)\n",
    "eta_sample = lambda n: np.random.uniform(-1, 1, size=n) \n",
    "\n",
    "# Generate controls, covariates, treatments and outcomes\n",
    "W = np.random.normal(0, 1, size=(n, n_w))\n",
    "X = np.random.uniform(0, 1, size=(n, n_x))\n",
    "# Heterogeneous treatment effects\n",
    "true_te = exp_te\n",
    "TE = true_te(X)\n",
    "T = np.dot(W[:, support_T], coefs_T) + eta_sample(n)\n",
    "y = TE * T + np.dot(W[:, support_Y], coefs_Y) + epsilon_sample(n)\n",
    "X = np.hstack([X, W])\n",
    "n_x = n_x + n_w\n",
    "y = y.reshape(-1, 1)\n",
    "T = T.reshape(-1, 1)\n",
    "\n",
    "# ORF parameters and test data\n",
    "subsample_ratio = 0.3\n",
    "lambda_reg = np.sqrt(np.log(n_w) / (10 * subsample_ratio * n))\n",
    "X_test = X[:1000].copy()\n",
    "X_test[:, 0] = np.linspace(np.percentile(X[:, 0], 1), np.percentile(X[:, 0], 99), 1000)"
   ]
  },
  {
   "cell_type": "code",
   "execution_count": 30,
   "metadata": {},
   "outputs": [],
   "source": [
    "from sklearn.model_selection import KFold, cross_val_predict\n",
    "from sklearn.linear_model import LassoCV, Lasso, MultiTaskLassoCV\n",
    "cv = KFold(n_splits=5, shuffle=True)\n",
    "cv = list(cv.split(X))\n",
    "y = y - cross_val_predict(LassoCV(), X, y, cv=cv).reshape(y.shape)\n",
    "T = T - cross_val_predict(LassoCV(), X, T, cv=cv).reshape(T.shape)"
   ]
  },
  {
   "cell_type": "code",
   "execution_count": 1,
   "metadata": {},
   "outputs": [],
   "source": [
    "import numpy as np\n",
    "import scipy.special\n",
    "np.random.seed(123)\n",
    "n_samples = 5000\n",
    "n_features = 100\n",
    "n_treatments = 3\n",
    "n_outputs = 1\n",
    "# true_te = lambda X: np.hstack([X[:, [0]]**2 + 1, np.ones((X.shape[0], n_treatments - 1))])\n",
    "# true_te = lambda X: np.hstack([X[:, [0]]>0, np.ones((X.shape[0], n_treatments - 1))])\n",
    "true_te = lambda X: np.hstack([(X[:, [0]]>0) * X[:, [0]],\n",
    "                               np.ones((X.shape[0], n_treatments - 1))*np.arange(1, n_treatments).reshape(1, -1)])\n",
    "X = np.random.normal(0, 1, size=(n_samples, n_features))\n",
    "T = np.random.normal(0, 1, size=(n_samples, n_treatments))\n",
    "for t in range(n_treatments):\n",
    "    T[:, t] = np.random.binomial(1, scipy.special.expit(X[:, 0]))\n",
    "y = np.sum(true_te(X) * T, axis=1, keepdims=True) + X[:, [0]]\n",
    "X_test = X[:1000].copy()\n",
    "X_test[:, 0] = np.linspace(np.percentile(X[:, 0], 1), np.percentile(X[:, 0], 99), 1000)"
   ]
  },
  {
   "cell_type": "code",
   "execution_count": 78,
   "metadata": {},
   "outputs": [],
   "source": [
    "from sklearn.model_selection import KFold, cross_val_predict\n",
    "from sklearn.linear_model import LassoCV, Lasso, MultiTaskLassoCV, LogisticRegressionCV\n",
    "from sklearn.ensemble import RandomForestClassifier\n",
    "cv = KFold(n_splits=2, shuffle=True)\n",
    "cv = list(cv.split(X))\n",
    "for t in range(y.shape[1]):\n",
    "    y[:, t] = y[:, t] - cross_val_predict(LassoCV(), X, y[:, t], cv=cv)\n",
    "for t in range(T.shape[1]):\n",
    "    T[:, t] = T[:, t] - cross_val_predict(RandomForestClassifier(min_samples_leaf=40), X, T[:, t],\n",
    "                                          cv=cv, method='predict_proba')[:, 1]"
   ]
  },
  {
   "cell_type": "code",
   "execution_count": 53,
   "metadata": {},
   "outputs": [
    {
     "data": {
      "image/png": "[encoded data removed]",
      "text/plain": [
       "<Figure size 432x288 with 1 Axes>"
      ]
     },
     "metadata": {
      "needs_background": "light"
     },
     "output_type": "display_data"
    }
   ],
   "source": [
    "import matplotlib.pyplot as plt\n",
    "from sklearn.ensemble import RandomForestClassifier\n",
    "\n",
    "plt.plot(X_test[:, 0], scipy.special.expit(X_test[:, 0]))\n",
    "plt.plot(X_test[:, 0], RandomForestClassifier(n_estimators=100, \n",
    "                                              min_samples_leaf=100).fit(X, T[:, 0]).predict_proba(X_test)[:, 1])\n",
    "plt.show()"
   ]
  },
  {
   "cell_type": "markdown",
   "metadata": {},
   "source": [
    "# Ensemble Estimator fit"
   ]
  },
  {
   "cell_type": "code",
   "execution_count": null,
   "metadata": {},
   "outputs": [],
   "source": []
  },
  {
   "cell_type": "code",
   "execution_count": 6,
   "metadata": {},
   "outputs": [],
   "source": [
    "from econml.tree import Tree\n",
    "from econml.grf import LinearMomentGRFCriterionMSE, LinearMomentGRFCriterion\n",
    "from econml.tree import BestSplitter\n",
    "from econml.tree import DepthFirstTreeBuilder\n",
    "from sklearn.model_selection import train_test_split\n",
    "import numpy as np\n",
    "\n",
    "\n",
    "def fit(X, y, n_features, n_y, n_outputs, n_relevant_outputs, random_state, \n",
    "        criterion='het',\n",
    "        max_depth = 100,\n",
    "        min_samples_leaf = 100,\n",
    "        min_balancedness_tol = .3,\n",
    "        min_impurity_decrease=-np.inf, \n",
    "        subsample_fr=.7, replace=False, \n",
    "        honest=True):\n",
    "    min_samples_split = 2\n",
    "    min_weight_leaf = 0\n",
    "    max_features = n_features\n",
    "    n_outputs = n_outputs\n",
    "    n_samples = X.shape[0]\n",
    "\n",
    "    random_state = np.random.RandomState(random_state)\n",
    "    inds = random_state.choice(X.shape[0], int(np.ceil(subsample_fr * X.shape[0])), replace=replace)\n",
    "    sample_weight = np.zeros(X.shape[0])\n",
    "    sample_weight[inds] = 1\n",
    "\n",
    "    if honest:\n",
    "        Xtrain, Xval, ytrain, yval,\\\n",
    "            sample_weight_train, sample_weight_val, inds_train, inds_val = train_test_split(X, y, sample_weight,\n",
    "                                                                                            np.arange(X.shape[0]),\n",
    "                                                                                            train_size=.5,\n",
    "                                                                                            random_state=random_state)\n",
    "    else:\n",
    "        Xtrain, Xval, ytrain, yval,\\\n",
    "            sample_weight_train, sample_weight_val, inds_train, inds_val = X, X, y, y, sample_weight, sample_weight,\\\n",
    "            np.arange(X.shape[0]), np.arange(X.shape[0])\n",
    "    tree = Tree(n_features, n_outputs, n_relevant_outputs, store_jac=True)\n",
    "    if criterion == 'het':\n",
    "        criterion = LinearMomentGRFCriterion(n_outputs, n_features, n_y, Xtrain.shape[0], Xval.shape[0])\n",
    "    else:\n",
    "        criterion = LinearMomentGRFCriterionMSE(n_outputs, n_features, n_y, Xtrain.shape[0], Xval.shape[0])\n",
    "    splitter = BestSplitter(criterion, max_features, min_samples_leaf, min_weight_leaf,\n",
    "                            min_balancedness_tol, random_state)\n",
    "    builder = DepthFirstTreeBuilder(splitter, min_samples_split, min_samples_leaf, min_weight_leaf,\n",
    "                                    max_depth, min_impurity_decrease)\n",
    "    builder.build(tree, Xtrain, ytrain, Xval, yval,\n",
    "                  sample_weight=sample_weight_train, sample_weight_val=sample_weight_val,\n",
    "                  store_jac=True)\n",
    "    if honest:\n",
    "        sample_weight[inds_train] = 0\n",
    "    return tree, sample_weight"
   ]
  },
  {
   "cell_type": "code",
   "execution_count": 1,
   "metadata": {},
   "outputs": [],
   "source": [
    "import numpy as np\n",
    "import scipy.special\n",
    "np.random.seed(123)\n",
    "n_samples = 5000\n",
    "n_features = 100\n",
    "n_treatments = 3\n",
    "n_outputs = 1\n",
    "# true_te = lambda X: np.hstack([X[:, [0]]**2 + 1, np.ones((X.shape[0], n_treatments - 1))])\n",
    "# true_te = lambda X: np.hstack([X[:, [0]]>0, np.ones((X.shape[0], n_treatments - 1))])\n",
    "true_te = lambda X: np.hstack([(X[:, [0]]>0) * X[:, [0]],\n",
    "                               np.ones((X.shape[0], n_treatments - 1))*np.arange(1, n_treatments).reshape(1, -1)])\n",
    "X = np.random.normal(0, 1, size=(n_samples, n_features))\n",
    "T = np.random.normal(0, 1, size=(n_samples, n_treatments))\n",
    "for t in range(n_treatments):\n",
    "    T[:, t] = np.random.binomial(1, scipy.special.expit(X[:, 0]))\n",
    "y = np.sum(true_te(X) * T, axis=1, keepdims=True) + X[:, [0]]\n",
    "X_test = X[:1000].copy()\n",
    "X_test[:, 0] = np.linspace(np.percentile(X[:, 0], 1), np.percentile(X[:, 0], 99), 1000)"
   ]
  },
  {
   "cell_type": "code",
   "execution_count": 2,
   "metadata": {},
   "outputs": [],
   "source": [
    "from econml.utilities import cross_product\n",
    "import numpy as np\n",
    "Taug = np.hstack([T, np.ones((T.shape[0], 1))])\n",
    "n_features = X.shape[1]\n",
    "n_y = y.shape[1]\n",
    "n_outputs = Taug.shape[1]\n",
    "n_relevant_outputs = T.shape[1]\n",
    "X = np.asfortranarray(X)\n",
    "alpha = y * Taug\n",
    "pointJ = cross_product(Taug, Taug)\n",
    "y = np.hstack([y, alpha, pointJ])\n",
    "random_state = np.random.RandomState(123)"
   ]
  },
  {
   "cell_type": "code",
   "execution_count": 3,
   "metadata": {},
   "outputs": [],
   "source": [
    "criterion='het'\n",
    "max_depth = 100\n",
    "min_samples_leaf = 100\n",
    "min_balancedness_tol = .3\n",
    "min_impurity_decrease=-np.inf\n",
    "subsample_fr=.7\n",
    "replace=False\n",
    "honest=True\n",
    "min_samples_split = 2\n",
    "min_weight_leaf = 0\n",
    "max_features = n_features\n",
    "n_outputs = n_outputs\n",
    "n_samples = X.shape[0]"
   ]
  },
  {
   "cell_type": "code",
   "execution_count": 4,
   "metadata": {},
   "outputs": [],
   "source": [
    "random_state = np.random.RandomState(random_state.randint(np.iinfo(np.int32).max))\n",
    "inds = random_state.choice(X.shape[0], int(np.ceil(subsample_fr * X.shape[0])), replace=replace)\n",
    "sample_weight = np.zeros(X.shape[0])\n",
    "sample_weight[inds] = 1"
   ]
  },
  {
   "cell_type": "code",
   "execution_count": 5,
   "metadata": {},
   "outputs": [],
   "source": [
    "from sklearn.model_selection import train_test_split\n",
    "inds_train, inds_val = train_test_split(np.arange(X.shape[0], dtype=np.intp), train_size=.5, random_state=random_state)"
   ]
  },
  {
   "cell_type": "code",
   "execution_count": 6,
   "metadata": {},
   "outputs": [],
   "source": [
    "from econml.tree import Tree\n",
    "from econml.grf import LinearMomentGRFCriterionMSE, LinearMomentGRFCriterion\n",
    "from econml.tree import BestSplitter\n",
    "from econml.tree import DepthFirstTreeBuilder"
   ]
  },
  {
   "cell_type": "code",
   "execution_count": 7,
   "metadata": {},
   "outputs": [],
   "source": [
    "tree = Tree(n_features, n_outputs, n_relevant_outputs, store_jac=True)"
   ]
  },
  {
   "cell_type": "code",
   "execution_count": 8,
   "metadata": {},
   "outputs": [],
   "source": [
    "criterion = LinearMomentGRFCriterion(n_outputs, n_features, n_y, X.shape[0])\n",
    "criterion_val = LinearMomentGRFCriterion(n_outputs, n_features, n_y, X.shape[0])"
   ]
  },
  {
   "cell_type": "code",
   "execution_count": 9,
   "metadata": {},
   "outputs": [],
   "source": [
    "splitter = BestSplitter(criterion, criterion_val, max_features, min_samples_leaf, min_weight_leaf,\n",
    "                            min_balancedness_tol, random_state)"
   ]
  },
  {
   "cell_type": "code",
   "execution_count": 10,
   "metadata": {},
   "outputs": [],
   "source": [
    "builder = DepthFirstTreeBuilder(splitter, min_samples_split, min_samples_leaf, min_weight_leaf,\n",
    "                                    max_depth, min_impurity_decrease)"
   ]
  },
  {
   "cell_type": "code",
   "execution_count": 11,
   "metadata": {},
   "outputs": [
    {
     "name": "stdout",
     "output_type": "stream",
     "text": [
      "Splitter initialized!\n",
      "initialized jac\n",
      "initialized param\n",
      "initialized rho\n",
      "initialized sums\n",
      "reseted criterion\n",
      "initialized jac\n",
      "initialized param\n",
      "initialized rho\n",
      "initialized sums\n",
      "reseted criterion\n",
      "Reset node\n",
      "calcualted proxy impurity\n",
      "calcualted node impurity\n",
      "calcualted node impurity val\n",
      "split node\n",
      "initialized jac\n",
      "initialized param\n",
      "initialized rho\n",
      "initialized sums\n",
      "reseted criterion\n",
      "initialized jac\n",
      "initialized param\n",
      "initialized rho\n",
      "initialized sums\n",
      "reseted criterion\n",
      "Reset node\n",
      "calcualted proxy impurity\n",
      "calcualted node impurity\n",
      "calcualted node impurity val\n",
      "split node\n",
      "initialized jac\n",
      "initialized param\n",
      "initialized rho\n",
      "initialized sums\n",
      "reseted criterion\n",
      "initialized jac\n",
      "initialized param\n",
      "initialized rho\n",
      "initialized sums\n",
      "reseted criterion\n",
      "Reset node\n",
      "calcualted proxy impurity\n",
      "calcualted node impurity\n",
      "calcualted node impurity val\n",
      "split node\n",
      "initialized jac\n",
      "initialized param\n",
      "initialized rho\n",
      "initialized sums\n",
      "reseted criterion\n",
      "initialized jac\n",
      "initialized param\n",
      "initialized rho\n",
      "initialized sums\n",
      "reseted criterion\n",
      "Reset node\n",
      "calcualted proxy impurity\n",
      "calcualted node impurity\n",
      "calcualted node impurity val\n",
      "initialized jac\n",
      "initialized param\n",
      "initialized rho\n",
      "initialized sums\n",
      "reseted criterion\n",
      "initialized jac\n",
      "initialized param\n",
      "initialized rho\n",
      "initialized sums\n",
      "reseted criterion\n",
      "Reset node\n",
      "calcualted proxy impurity\n",
      "calcualted node impurity\n",
      "calcualted node impurity val\n",
      "initialized jac\n",
      "initialized param\n",
      "initialized rho\n",
      "initialized sums\n",
      "reseted criterion\n",
      "initialized jac\n",
      "initialized param\n",
      "initialized rho\n",
      "initialized sums\n",
      "reseted criterion\n",
      "Reset node\n",
      "calcualted proxy impurity\n",
      "calcualted node impurity\n",
      "calcualted node impurity val\n",
      "split node\n",
      "initialized jac\n",
      "initialized param\n",
      "initialized rho\n",
      "initialized sums\n",
      "reseted criterion\n",
      "initialized jac\n",
      "initialized param\n",
      "initialized rho\n",
      "initialized sums\n",
      "reseted criterion\n",
      "Reset node\n",
      "calcualted proxy impurity\n",
      "calcualted node impurity\n",
      "calcualted node impurity val\n",
      "split node\n",
      "initialized jac\n",
      "initialized param\n",
      "initialized rho\n",
      "initialized sums\n",
      "reseted criterion\n",
      "initialized jac\n",
      "initialized param\n",
      "initialized rho\n",
      "initialized sums\n",
      "reseted criterion\n",
      "Reset node\n",
      "calcualted proxy impurity\n",
      "calcualted node impurity\n",
      "calcualted node impurity val\n",
      "split node\n",
      "initialized jac\n",
      "initialized param\n",
      "initialized rho\n",
      "initialized sums\n",
      "reseted criterion\n",
      "initialized jac\n",
      "initialized param\n",
      "initialized rho\n",
      "initialized sums\n",
      "reseted criterion\n",
      "Reset node\n",
      "calcualted proxy impurity\n",
      "calcualted node impurity\n",
      "calcualted node impurity val\n",
      "initialized jac\n",
      "initialized param\n",
      "initialized rho\n",
      "initialized sums\n",
      "reseted criterion\n",
      "initialized jac\n",
      "initialized param\n",
      "initialized rho\n",
      "initialized sums\n",
      "reseted criterion\n",
      "Reset node\n",
      "calcualted proxy impurity\n",
      "calcualted node impurity\n",
      "calcualted node impurity val\n",
      "initialized jac\n",
      "initialized param\n",
      "initialized rho\n",
      "initialized sums\n",
      "reseted criterion\n",
      "initialized jac\n",
      "initialized param\n",
      "initialized rho\n",
      "initialized sums\n",
      "reseted criterion\n",
      "Reset node\n",
      "calcualted proxy impurity\n",
      "calcualted node impurity\n",
      "calcualted node impurity val\n",
      "split node\n",
      "initialized jac\n",
      "initialized param\n",
      "initialized rho\n",
      "initialized sums\n",
      "reseted criterion\n",
      "initialized jac\n",
      "initialized param\n",
      "initialized rho\n",
      "initialized sums\n",
      "reseted criterion\n",
      "Reset node\n",
      "calcualted proxy impurity\n",
      "calcualted node impurity\n",
      "calcualted node impurity val\n",
      "initialized jac\n",
      "initialized param\n",
      "initialized rho\n",
      "initialized sums\n",
      "reseted criterion\n",
      "initialized jac\n",
      "initialized param\n",
      "initialized rho\n",
      "initialized sums\n",
      "reseted criterion\n",
      "Reset node\n",
      "calcualted proxy impurity\n",
      "calcualted node impurity\n",
      "calcualted node impurity val\n",
      "split node\n",
      "initialized jac\n",
      "initialized param\n",
      "initialized rho\n",
      "initialized sums\n",
      "reseted criterion\n",
      "initialized jac\n",
      "initialized param\n",
      "initialized rho\n",
      "initialized sums\n",
      "reseted criterion\n",
      "Reset node\n",
      "calcualted proxy impurity\n",
      "calcualted node impurity\n",
      "calcualted node impurity val\n",
      "initialized jac\n",
      "initialized param\n",
      "initialized rho\n",
      "initialized sums\n",
      "reseted criterion\n",
      "initialized jac\n",
      "initialized param\n",
      "initialized rho\n",
      "initialized sums\n",
      "reseted criterion\n",
      "Reset node\n",
      "calcualted proxy impurity\n",
      "calcualted node impurity\n",
      "calcualted node impurity val\n",
      "split node\n",
      "initialized jac\n",
      "initialized param\n",
      "initialized rho\n",
      "initialized sums\n",
      "reseted criterion\n",
      "initialized jac\n",
      "initialized param\n",
      "initialized rho\n",
      "initialized sums\n",
      "reseted criterion\n",
      "Reset node\n",
      "calcualted proxy impurity\n",
      "calcualted node impurity\n",
      "calcualted node impurity val\n",
      "initialized jac\n",
      "initialized param\n",
      "initialized rho\n",
      "initialized sums\n",
      "reseted criterion\n",
      "initialized jac\n",
      "initialized param\n",
      "initialized rho\n",
      "initialized sums\n",
      "reseted criterion\n",
      "Reset node\n",
      "calcualted proxy impurity\n",
      "calcualted node impurity\n",
      "calcualted node impurity val\n",
      "initialized jac\n",
      "initialized param\n",
      "initialized rho\n",
      "initialized sums\n",
      "reseted criterion\n",
      "initialized jac\n",
      "initialized param\n",
      "initialized rho\n",
      "initialized sums\n",
      "reseted criterion\n",
      "Reset node\n",
      "calcualted proxy impurity\n",
      "calcualted node impurity\n",
      "calcualted node impurity val\n",
      "split node\n",
      "initialized jac\n",
      "initialized param\n",
      "initialized rho\n",
      "initialized sums\n",
      "reseted criterion\n",
      "initialized jac\n",
      "initialized param\n",
      "initialized rho\n",
      "initialized sums\n",
      "reseted criterion\n",
      "Reset node\n",
      "calcualted proxy impurity\n",
      "calcualted node impurity\n",
      "calcualted node impurity val\n",
      "initialized jac\n",
      "initialized param\n",
      "initialized rho\n",
      "initialized sums\n",
      "reseted criterion\n",
      "initialized jac\n",
      "initialized param\n",
      "initialized rho\n",
      "initialized sums\n",
      "reseted criterion\n",
      "Reset node\n",
      "calcualted proxy impurity\n",
      "calcualted node impurity\n",
      "calcualted node impurity val\n",
      "initialized jac\n",
      "initialized param\n",
      "initialized rho\n",
      "initialized sums\n",
      "reseted criterion\n",
      "initialized jac\n",
      "initialized param\n",
      "initialized rho\n",
      "initialized sums\n",
      "reseted criterion\n",
      "Reset node\n",
      "calcualted proxy impurity\n",
      "calcualted node impurity\n",
      "calcualted node impurity val\n",
      "split node\n",
      "initialized jac\n",
      "initialized param\n",
      "initialized rho\n",
      "initialized sums\n",
      "reseted criterion\n",
      "initialized jac\n",
      "initialized param\n",
      "initialized rho\n",
      "initialized sums\n",
      "reseted criterion\n",
      "Reset node\n",
      "calcualted proxy impurity\n",
      "calcualted node impurity\n",
      "calcualted node impurity val\n",
      "split node\n",
      "initialized jac\n",
      "initialized param\n",
      "initialized rho\n",
      "initialized sums\n",
      "reseted criterion\n",
      "initialized jac\n",
      "initialized param\n",
      "initialized rho\n",
      "initialized sums\n",
      "reseted criterion\n",
      "Reset node\n",
      "calcualted proxy impurity\n",
      "calcualted node impurity\n",
      "calcualted node impurity val\n",
      "initialized jac\n",
      "initialized param\n",
      "initialized rho\n",
      "initialized sums\n",
      "reseted criterion\n",
      "initialized jac\n",
      "initialized param\n",
      "initialized rho\n",
      "initialized sums\n",
      "reseted criterion\n",
      "Reset node\n",
      "calcualted proxy impurity\n",
      "calcualted node impurity\n",
      "calcualted node impurity val\n",
      "initialized jac\n",
      "initialized param\n",
      "initialized rho\n",
      "initialized sums\n",
      "reseted criterion\n",
      "initialized jac\n",
      "initialized param\n",
      "initialized rho\n",
      "initialized sums\n",
      "reseted criterion\n",
      "Reset node\n",
      "calcualted proxy impurity\n",
      "calcualted node impurity\n",
      "calcualted node impurity val\n"
     ]
    }
   ],
   "source": [
    "builder.build(tree, X, y, inds_train, inds_val,\n",
    "              sample_weight=sample_weight,\n",
    "              store_jac=True)"
   ]
  },
  {
   "cell_type": "markdown",
   "metadata": {},
   "source": [
    "# Comparison with RF running time"
   ]
  },
  {
   "cell_type": "code",
   "execution_count": 113,
   "metadata": {},
   "outputs": [
    {
     "name": "stderr",
     "output_type": "stream",
     "text": [
      "[Parallel(n_jobs=-1)]: Using backend ThreadingBackend with 8 concurrent workers.\n",
      "[Parallel(n_jobs=-1)]: Done  34 tasks      | elapsed:    1.4s\n",
      "[Parallel(n_jobs=-1)]: Done 100 out of 100 | elapsed:    3.9s finished\n"
     ]
    }
   ],
   "source": [
    "from sklearn.ensemble import RandomForestRegressor\n",
    "\n",
    "rf = RandomForestRegressor(n_estimators=100, min_samples_leaf=20, n_jobs=-1, verbose=1).fit(X, y)"
   ]
  },
  {
   "cell_type": "markdown",
   "metadata": {},
   "source": [
    "# Fitting without Honesty"
   ]
  },
  {
   "cell_type": "code",
   "execution_count": null,
   "metadata": {},
   "outputs": [],
   "source": [
    "from econml.utilities import cross_product\n",
    "from joblib.parallel import Parallel, delayed\n",
    "import warnings\n",
    "warnings.simplefilter('ignore')\n",
    "\n",
    "Taug = np.hstack([T, np.ones((T.shape[0], 1))])\n",
    "n_features = X.shape[1]\n",
    "n_y = y.shape[1]\n",
    "n_outputs = Taug.shape[1]\n",
    "n_relevant_outputs = T.shape[1]\n",
    "Xaug = np.asfortranarray(X)\n",
    "alpha = y * Taug\n",
    "pointJ = cross_product(Taug, Taug)\n",
    "yaug = np.hstack([y, alpha, pointJ])\n",
    "random_state = np.random.RandomState(123)\n",
    "forest = Parallel(n_jobs=-1, backend='threading', verbose=1)(\n",
    "                    delayed(fit)(Xaug, yaug, n_features, n_y, n_outputs, n_relevant_outputs,\n",
    "                                 random_state.randint(np.iinfo(np.int32).max),\n",
    "                                 criterion='mse',\n",
    "                                 max_depth = 100,\n",
    "                                 min_samples_leaf = 20,\n",
    "                                 min_balancedness_tol = .3,\n",
    "                                 min_impurity_decrease=-np.inf,\n",
    "                                 subsample_fr=.9, replace=False, honest=False) for _ in range(1000))"
   ]
  },
  {
   "cell_type": "code",
   "execution_count": 32,
   "metadata": {},
   "outputs": [
    {
     "name": "stderr",
     "output_type": "stream",
     "text": [
      "[Parallel(n_jobs=-1)]: Using backend ThreadingBackend with 8 concurrent workers.\n",
      "[Parallel(n_jobs=-1)]: Done  34 tasks      | elapsed:    0.0s\n",
      "[Parallel(n_jobs=-1)]: Done 184 tasks      | elapsed:    0.0s\n",
      "[Parallel(n_jobs=-1)]: Done 434 tasks      | elapsed:    0.0s\n",
      "[Parallel(n_jobs=-1)]: Done 784 tasks      | elapsed:    0.1s\n",
      "[Parallel(n_jobs=-1)]: Done 1000 out of 1000 | elapsed:    0.2s finished\n"
     ]
    },
    {
     "data": {
      "image/png": "[encoded data removed]",
      "text/plain": [
       "<Figure size 432x288 with 1 Axes>"
      ]
     },
     "metadata": {
      "needs_background": "light"
     },
     "output_type": "display_data"
    }
   ],
   "source": [
    "import matplotlib.pyplot as plt\n",
    "plt.plot(X_test[:, 0],\n",
    "         np.mean(Parallel(n_jobs=-1, backend='threading', verbose=1)(delayed(tree.predict)(X_test)\n",
    "                 for tree, _ in forest), axis=0)[:, :-1])\n",
    "plt.plot(X_test[:, 0], true_te(X_test))\n",
    "plt.show()"
   ]
  },
  {
   "cell_type": "code",
   "execution_count": 62,
   "metadata": {},
   "outputs": [
    {
     "name": "stderr",
     "output_type": "stream",
     "text": [
      "[Parallel(n_jobs=-1)]: Using backend ThreadingBackend with 8 concurrent workers.\n",
      "[Parallel(n_jobs=-1)]: Done  34 tasks      | elapsed:    0.0s\n",
      "[Parallel(n_jobs=-1)]: Done 184 tasks      | elapsed:    0.0s\n",
      "[Parallel(n_jobs=-1)]: Done 434 tasks      | elapsed:    0.0s\n",
      "[Parallel(n_jobs=-1)]: Done 784 tasks      | elapsed:    0.1s\n",
      "[Parallel(n_jobs=-1)]: Done 1000 out of 1000 | elapsed:    0.1s finished\n"
     ]
    },
    {
     "data": {
      "image/png": "[encoded data removed]",
      "text/plain": [
       "<Figure size 432x288 with 1 Axes>"
      ]
     },
     "metadata": {
      "needs_background": "light"
     },
     "output_type": "display_data"
    }
   ],
   "source": [
    "import matplotlib.pyplot as plt\n",
    "plt.plot(X_test[:, 0],\n",
    "         np.array(Parallel(n_jobs=-1, backend='threading', verbose=1)(delayed(tree.predict)(X_test)\n",
    "                 for tree, _ in forest))[:, :, 2].T)\n",
    "plt.plot(X_test[:, 0], true_te(X_test))\n",
    "plt.show()"
   ]
  },
  {
   "cell_type": "markdown",
   "metadata": {},
   "source": [
    "# Fitting with honesty"
   ]
  },
  {
   "cell_type": "code",
   "execution_count": 7,
   "metadata": {},
   "outputs": [
    {
     "name": "stderr",
     "output_type": "stream",
     "text": [
      "[Parallel(n_jobs=-1)]: Using backend ThreadingBackend with 8 concurrent workers.\n",
      "[Parallel(n_jobs=-1)]: Done  34 tasks      | elapsed:    3.7s\n",
      "[Parallel(n_jobs=-1)]: Done 100 out of 100 | elapsed:    9.2s finished\n"
     ]
    }
   ],
   "source": [
    "from econml.utilities import cross_product\n",
    "from joblib.parallel import Parallel, delayed\n",
    "import warnings\n",
    "warnings.simplefilter('ignore')\n",
    "\n",
    "Taug = np.hstack([T, np.ones((T.shape[0], 1))])\n",
    "n_features = X.shape[1]\n",
    "n_y = y.shape[1]\n",
    "n_outputs = Taug.shape[1]\n",
    "n_relevant_outputs = T.shape[1]\n",
    "Xaug = np.asfortranarray(X)\n",
    "alpha = y * Taug\n",
    "pointJ = cross_product(Taug, Taug)\n",
    "yaug = np.hstack([y, alpha, pointJ])\n",
    "random_state = np.random.RandomState(123)\n",
    "forest = Parallel(n_jobs=-1, backend='threading', verbose=1)(\n",
    "                    delayed(fit)(Xaug, yaug, n_features, n_y, n_outputs, n_relevant_outputs,\n",
    "                                 random_state.randint(np.iinfo(np.int32).max),\n",
    "                                 criterion='mse',\n",
    "                                 max_depth = 100,\n",
    "                                 min_samples_leaf = 20,\n",
    "                                 min_balancedness_tol = .3,\n",
    "                                 min_impurity_decrease = 0,\n",
    "                                 subsample_fr=.9, replace=False, honest=True) for _ in range(100))"
   ]
  },
  {
   "cell_type": "code",
   "execution_count": 6,
   "metadata": {},
   "outputs": [
    {
     "ename": "NameError",
     "evalue": "name 'Parallel' is not defined",
     "output_type": "error",
     "traceback": [
      "\u001b[1;31m---------------------------------------------------------------------------\u001b[0m",
      "\u001b[1;31mNameError\u001b[0m                                 Traceback (most recent call last)",
      "\u001b[1;32m<ipython-input-6-54cf15deb0f6>\u001b[0m in \u001b[0;36m<module>\u001b[1;34m\u001b[0m\n\u001b[0;32m      1\u001b[0m \u001b[1;32mimport\u001b[0m \u001b[0mmatplotlib\u001b[0m\u001b[1;33m.\u001b[0m\u001b[0mpyplot\u001b[0m \u001b[1;32mas\u001b[0m \u001b[0mplt\u001b[0m\u001b[1;33m\u001b[0m\u001b[1;33m\u001b[0m\u001b[0m\n\u001b[1;32m----> 2\u001b[1;33m pred_test_point = np.mean(Parallel(n_jobs=-1, backend='threading', verbose=1)(delayed(tree.predict)(X_test)\n\u001b[0m\u001b[0;32m      3\u001b[0m                                                                               for tree, _ in forest), axis=0)\n\u001b[0;32m      4\u001b[0m \u001b[0mplt\u001b[0m\u001b[1;33m.\u001b[0m\u001b[0mplot\u001b[0m\u001b[1;33m(\u001b[0m\u001b[0mX_test\u001b[0m\u001b[1;33m[\u001b[0m\u001b[1;33m:\u001b[0m\u001b[1;33m,\u001b[0m \u001b[1;36m0\u001b[0m\u001b[1;33m]\u001b[0m\u001b[1;33m,\u001b[0m \u001b[0mpred_test_point\u001b[0m\u001b[1;33m)\u001b[0m\u001b[1;33m\u001b[0m\u001b[1;33m\u001b[0m\u001b[0m\n\u001b[0;32m      5\u001b[0m \u001b[0mplt\u001b[0m\u001b[1;33m.\u001b[0m\u001b[0mplot\u001b[0m\u001b[1;33m(\u001b[0m\u001b[0mX_test\u001b[0m\u001b[1;33m[\u001b[0m\u001b[1;33m:\u001b[0m\u001b[1;33m,\u001b[0m \u001b[1;36m0\u001b[0m\u001b[1;33m]\u001b[0m\u001b[1;33m,\u001b[0m \u001b[0mtrue_te\u001b[0m\u001b[1;33m(\u001b[0m\u001b[0mX_test\u001b[0m\u001b[1;33m)\u001b[0m\u001b[1;33m)\u001b[0m\u001b[1;33m\u001b[0m\u001b[1;33m\u001b[0m\u001b[0m\n",
      "\u001b[1;31mNameError\u001b[0m: name 'Parallel' is not defined"
     ]
    }
   ],
   "source": [
    "import matplotlib.pyplot as plt\n",
    "pred_test_point = np.mean(Parallel(n_jobs=-1, backend='threading', verbose=1)(delayed(tree.predict)(X_test)\n",
    "                                                                              for tree, _ in forest), axis=0)\n",
    "plt.plot(X_test[:, 0], pred_test_point[:, :-1])\n",
    "plt.plot(X_test[:, 0], true_te(X_test))\n",
    "plt.show()"
   ]
  },
  {
   "cell_type": "code",
   "execution_count": 5,
   "metadata": {},
   "outputs": [
    {
     "data": {
      "image/png": "[encoded data removed]",
      "text/plain": [
       "<Figure size 1440x720 with 1 Axes>"
      ]
     },
     "metadata": {
      "needs_background": "light"
     },
     "output_type": "display_data"
    }
   ],
   "source": [
    "from sklearn.tree import plot_tree\n",
    "from sklearn.tree import DecisionTreeRegressor\n",
    "est = DecisionTreeRegressor()\n",
    "est.tree_ = forest[0][0]\n",
    "plt.figure(figsize=(20, 10))\n",
    "plot_tree(est, impurity=True, max_depth=2)\n",
    "plt.show()"
   ]
  },
  {
   "cell_type": "code",
   "execution_count": 6,
   "metadata": {},
   "outputs": [
    {
     "data": {
      "text/plain": [
       "0.5351360553274379"
      ]
     },
     "execution_count": 6,
     "metadata": {},
     "output_type": "execute_result"
    }
   ],
   "source": [
    "tree = forest[0][0]\n",
    "weights = (forest[0][1] > 0) & (X[:, 0] <= tree.threshold[0])\n",
    "np.sum(weights.reshape(-1, 1) * (y - Taug @ tree.full_value[1].reshape(-1, 1))**2) / np.sum(weights)"
   ]
  },
  {
   "cell_type": "code",
   "execution_count": 7,
   "metadata": {},
   "outputs": [
    {
     "data": {
      "text/plain": [
       "array([ 0.60120907,  1.50663676,  2.47392354, -0.93710304])"
      ]
     },
     "execution_count": 7,
     "metadata": {},
     "output_type": "execute_result"
    }
   ],
   "source": [
    "tree.full_value[1]"
   ]
  },
  {
   "cell_type": "code",
   "execution_count": 8,
   "metadata": {},
   "outputs": [
    {
     "data": {
      "text/plain": [
       "array([ 0.60120907,  1.50663676,  2.47392354, -0.93710304])"
      ]
     },
     "execution_count": 8,
     "metadata": {},
     "output_type": "execute_result"
    }
   ],
   "source": [
    "jac = np.mean(cross_product(Taug[weights>0], Taug[weights>0]), axis=0).reshape(n_outputs, n_outputs)\n",
    "(np.linalg.pinv(jac) @ np.mean(y[weights>0] * Taug[weights>0], axis=0))"
   ]
  },
  {
   "cell_type": "code",
   "execution_count": 9,
   "metadata": {},
   "outputs": [
    {
     "data": {
      "text/plain": [
       "array([[2.38339857]])"
      ]
     },
     "execution_count": 9,
     "metadata": {},
     "output_type": "execute_result"
    }
   ],
   "source": [
    "np.mean(y[weights>0]**2) - tree.full_value[2].reshape(1, -1) @ jac @ tree.full_value[2].reshape(-1, 1)"
   ]
  },
  {
   "cell_type": "code",
   "execution_count": 10,
   "metadata": {},
   "outputs": [
    {
     "data": {
      "text/plain": [
       "1799"
      ]
     },
     "execution_count": 10,
     "metadata": {},
     "output_type": "execute_result"
    }
   ],
   "source": [
    "np.sum(weights)"
   ]
  },
  {
   "cell_type": "code",
   "execution_count": 11,
   "metadata": {},
   "outputs": [
    {
     "data": {
      "text/plain": [
       "array([ 0.12503253,  1.26012284,  2.16946523, -1.61256483])"
      ]
     },
     "execution_count": 11,
     "metadata": {},
     "output_type": "execute_result"
    }
   ],
   "source": [
    "tree.full_value[2]"
   ]
  },
  {
   "cell_type": "code",
   "execution_count": 41,
   "metadata": {},
   "outputs": [
    {
     "data": {
      "text/plain": [
       "(array([-2,  0,  1,  2,  3,  4,  5,  6,  7,  8, 11, 12, 13, 14, 15, 16, 17,\n",
       "        18, 19, 20, 21, 22, 23, 24, 25, 26, 27, 28, 29, 30, 31, 33, 34, 35,\n",
       "        36, 37, 38, 39, 40, 41, 42, 43, 44, 45, 46, 47, 48, 49, 50, 51, 52,\n",
       "        53, 54, 55, 56, 57, 58, 59, 60, 61, 62, 63, 64, 65, 66, 67, 68, 69,\n",
       "        70, 71, 72, 73, 74, 75, 76, 77, 78, 79, 80, 81, 82, 83, 84, 85, 86,\n",
       "        87, 88, 89, 90, 91, 92, 94, 95, 96, 97, 98, 99], dtype=int64),\n",
       " array([7883, 7457,    3,    2,    4,    2,    2,    7,    3,    8,    3,\n",
       "           4,    4,    4,    1,    9,    2,    6,    2,    5,    1,    1,\n",
       "           6,    3,    2,    7,    4,    6,    1,    4,    3,    3,    5,\n",
       "           3,    3,    6,    3,    8,    5,    4,    4,    3,    4,    2,\n",
       "           4,    1,    2,    5,    2,    1,    1,   10,    8,    4,    2,\n",
       "           1,    2,    2,    3,    4,    4,    2,    4,    2,    5,    3,\n",
       "           3,    5,    2,    7,    4,    1,    1,    3,    3,    5,    1,\n",
       "           3,    1,    3,    4,    1,    2,    3,    2,    2,    6,    3,\n",
       "           4,    4,    2,    2,    4,    1,    4,    2,    4], dtype=int64))"
      ]
     },
     "execution_count": 41,
     "metadata": {},
     "output_type": "execute_result"
    }
   ],
   "source": [
    "np.unique(np.concatenate([tree.feature for tree, _ in forest]), return_counts=True)"
   ]
  },
  {
   "cell_type": "code",
   "execution_count": 42,
   "metadata": {},
   "outputs": [
    {
     "name": "stderr",
     "output_type": "stream",
     "text": [
      "[Parallel(n_jobs=-1)]: Using backend ThreadingBackend with 8 concurrent workers.\n",
      "[Parallel(n_jobs=-1)]: Done  34 tasks      | elapsed:    0.0s\n",
      "[Parallel(n_jobs=-1)]: Done 100 out of 100 | elapsed:    0.0s finished\n"
     ]
    },
    {
     "data": {
      "image/png": "[encoded data removed]",
      "text/plain": [
       "<Figure size 432x288 with 1 Axes>"
      ]
     },
     "metadata": {
      "needs_background": "light"
     },
     "output_type": "display_data"
    }
   ],
   "source": [
    "plt.plot(np.mean(Parallel(n_jobs=-1, backend='threading', verbose=1)(\n",
    "    delayed(tree.compute_feature_importances)(normalize=True) for tree, _ in forest), axis=0))\n",
    "plt.show()"
   ]
  },
  {
   "cell_type": "code",
   "execution_count": 43,
   "metadata": {},
   "outputs": [
    {
     "name": "stderr",
     "output_type": "stream",
     "text": [
      "[Parallel(n_jobs=-1)]: Using backend ThreadingBackend with 8 concurrent workers.\n",
      "[Parallel(n_jobs=-1)]: Done  34 tasks      | elapsed:    0.0s\n",
      "[Parallel(n_jobs=-1)]: Done 100 out of 100 | elapsed:    0.0s finished\n"
     ]
    },
    {
     "data": {
      "image/png": "[encoded data removed]",
      "text/plain": [
       "<Figure size 432x288 with 1 Axes>"
      ]
     },
     "metadata": {
      "needs_background": "light"
     },
     "output_type": "display_data"
    }
   ],
   "source": [
    "plt.plot(np.mean(Parallel(n_jobs=-1, backend='threading', verbose=1)(\n",
    "    delayed(tree.compute_feature_heterogeneity_importances)(normalize=True) for tree, _ in forest), axis=0))\n",
    "plt.show()"
   ]
  },
  {
   "cell_type": "code",
   "execution_count": 44,
   "metadata": {},
   "outputs": [
    {
     "name": "stderr",
     "output_type": "stream",
     "text": [
      "[Parallel(n_jobs=-1)]: Using backend ThreadingBackend with 8 concurrent workers.\n",
      "[Parallel(n_jobs=-1)]: Done  34 tasks      | elapsed:    0.0s\n",
      "[Parallel(n_jobs=-1)]: Done 100 out of 100 | elapsed:    0.0s finished\n"
     ]
    },
    {
     "data": {
      "image/png": "[encoded data removed]",
      "text/plain": [
       "<Figure size 432x288 with 1 Axes>"
      ]
     },
     "metadata": {
      "needs_background": "light"
     },
     "output_type": "display_data"
    }
   ],
   "source": [
    "plt.hist(np.array(Parallel(n_jobs=-1, backend='threading', verbose=1)(\n",
    "    delayed(tree.compute_feature_importances)(normalize=True) for tree, _ in forest)))\n",
    "plt.show()"
   ]
  },
  {
   "cell_type": "code",
   "execution_count": 45,
   "metadata": {},
   "outputs": [
    {
     "name": "stderr",
     "output_type": "stream",
     "text": [
      "[Parallel(n_jobs=-1)]: Using backend ThreadingBackend with 8 concurrent workers.\n",
      "[Parallel(n_jobs=-1)]: Done  34 tasks      | elapsed:    0.0s\n",
      "[Parallel(n_jobs=-1)]: Done 100 out of 100 | elapsed:    0.0s finished\n"
     ]
    },
    {
     "data": {
      "image/png": "[encoded data removed]",
      "text/plain": [
       "<Figure size 432x288 with 1 Axes>"
      ]
     },
     "metadata": {
      "needs_background": "light"
     },
     "output_type": "display_data"
    }
   ],
   "source": [
    "import matplotlib.pyplot as plt\n",
    "plt.plot(X_test[:, 0],\n",
    "         np.array(Parallel(n_jobs=-1, backend='threading', verbose=1)(delayed(tree.predict)(X_test)\n",
    "                 for tree, _ in forest))[:, :, 0].T)\n",
    "plt.plot(X_test[:, 0], true_te(X_test))\n",
    "plt.show()"
   ]
  },
  {
   "cell_type": "markdown",
   "metadata": {},
   "source": [
    "### Inverse of average Jacobian instead of average of inverses"
   ]
  },
  {
   "cell_type": "code",
   "execution_count": 46,
   "metadata": {},
   "outputs": [
    {
     "name": "stderr",
     "output_type": "stream",
     "text": [
      "[Parallel(n_jobs=-1)]: Using backend ThreadingBackend with 8 concurrent workers.\n",
      "[Parallel(n_jobs=-1)]: Done  34 tasks      | elapsed:    0.0s\n",
      "[Parallel(n_jobs=-1)]: Done 100 out of 100 | elapsed:    0.0s finished\n",
      "[Parallel(n_jobs=-1)]: Using backend ThreadingBackend with 8 concurrent workers.\n",
      "[Parallel(n_jobs=-1)]: Done  34 tasks      | elapsed:    0.0s\n",
      "[Parallel(n_jobs=-1)]: Done 100 out of 100 | elapsed:    0.0s finished\n"
     ]
    }
   ],
   "source": [
    "alpha_test_tree = np.mean(Parallel(n_jobs=-1, backend='threading', verbose=1)(\n",
    "    delayed(tree.predict_precond)(X_test) for tree, _ in forest), axis=0)\n",
    "J_test_tree = np.mean(Parallel(n_jobs=-1, backend='threading', verbose=1)(\n",
    "    delayed(tree.predict_jac)(X_test) for tree, _ in forest), axis=0)\n",
    "pred_test_tree = np.einsum('ijk,ik->ij',\n",
    "                           np.linalg.pinv(J_test_tree.reshape(-1, alpha_test_tree.shape[1], alpha_test_tree.shape[1])),\n",
    "                           alpha_test_tree)"
   ]
  },
  {
   "cell_type": "code",
   "execution_count": 47,
   "metadata": {},
   "outputs": [
    {
     "data": {
      "image/png": "[encoded data removed]",
      "text/plain": [
       "<Figure size 432x288 with 1 Axes>"
      ]
     },
     "metadata": {
      "needs_background": "light"
     },
     "output_type": "display_data"
    }
   ],
   "source": [
    "###### import matplotlib.pyplot as plt\n",
    "plt.plot(X_test[:, 0], pred_test_tree[:, :-1])\n",
    "plt.plot(X_test[:, 0], true_te(X_test))\n",
    "plt.show()"
   ]
  },
  {
   "cell_type": "code",
   "execution_count": 54,
   "metadata": {},
   "outputs": [
    {
     "name": "stderr",
     "output_type": "stream",
     "text": [
      "[Parallel(n_jobs=-1)]: Using backend ThreadingBackend with 8 concurrent workers.\n",
      "[Parallel(n_jobs=-1)]: Done  34 tasks      | elapsed:    0.1s\n",
      "[Parallel(n_jobs=-1)]: Done 184 tasks      | elapsed:    0.6s\n",
      "[Parallel(n_jobs=-1)]: Done 434 tasks      | elapsed:    1.6s\n",
      "[Parallel(n_jobs=-1)]: Done 784 tasks      | elapsed:    3.1s\n",
      "[Parallel(n_jobs=-1)]: Done 1000 out of 1000 | elapsed:    4.0s finished\n"
     ]
    }
   ],
   "source": [
    "def predict(tree, X_test, X_train, alpha_train, pointJ_train, sample_weight_train):\n",
    "    kernel = tree.apply(X_test).reshape(-1, 1) == tree.apply(X_train).reshape(1, -1)\n",
    "    kernel = kernel * sample_weight_train.reshape(1, -1)\n",
    "    kernel_norm = np.sum(kernel, axis=1, keepdims=True)\n",
    "    alpha_test = kernel @ alpha_train / kernel_norm\n",
    "    J_test = kernel @ pointJ / kernel_norm\n",
    "    return np.hstack([alpha_test, J_test])\n",
    "\n",
    "alphaJ_test = np.mean(Parallel(n_jobs=-1, backend='threading', verbose=1)(\n",
    "    delayed(predict)(tree, X_test, X, alpha, pointJ, sample_weight)\n",
    "                 for tree, sample_weight in forest), axis=0)"
   ]
  },
  {
   "cell_type": "code",
   "execution_count": 55,
   "metadata": {},
   "outputs": [],
   "source": [
    "alpha_test, J_test = alphaJ_test[:, :alpha.shape[1]], alphaJ_test[:, alpha.shape[1]:]\n",
    "pred_test = np.einsum('ijk,ik->ij', np.linalg.pinv(J_test.reshape(-1, alpha.shape[1], alpha.shape[1])), alpha_test)"
   ]
  },
  {
   "cell_type": "code",
   "execution_count": 56,
   "metadata": {},
   "outputs": [
    {
     "data": {
      "image/png": "[encoded data removed]",
      "text/plain": [
       "<Figure size 432x288 with 1 Axes>"
      ]
     },
     "metadata": {
      "needs_background": "light"
     },
     "output_type": "display_data"
    }
   ],
   "source": [
    "import matplotlib.pyplot as plt\n",
    "plt.plot(X_test[:, 0], pred_test[:, :-1])\n",
    "plt.plot(X_test[:, 0], true_te(X_test))\n",
    "plt.show()"
   ]
  },
  {
   "cell_type": "code",
   "execution_count": 57,
   "metadata": {},
   "outputs": [],
   "source": [
    "np.testing.assert_almost_equal(alpha_test, alpha_test_tree)\n",
    "np.testing.assert_almost_equal(J_test, J_test_tree)\n",
    "np.testing.assert_almost_equal(pred_test, pred_test_tree)"
   ]
  },
  {
   "cell_type": "markdown",
   "metadata": {},
   "source": [
    "# Comparison with ORF and Current Causal Forest"
   ]
  },
  {
   "cell_type": "code",
   "execution_count": 90,
   "metadata": {},
   "outputs": [
    {
     "name": "stderr",
     "output_type": "stream",
     "text": [
      "[Parallel(n_jobs=-1)]: Using backend ThreadingBackend with 8 concurrent workers.\n",
      "[Parallel(n_jobs=-1)]: Done  34 tasks      | elapsed:    0.2s\n",
      "[Parallel(n_jobs=-1)]: Done 184 tasks      | elapsed:    1.1s\n",
      "[Parallel(n_jobs=-1)]: Done 434 tasks      | elapsed:    2.7s\n",
      "[Parallel(n_jobs=-1)]: Done 784 tasks      | elapsed:    4.9s\n",
      "[Parallel(n_jobs=-1)]: Done 1000 out of 1000 | elapsed:    6.2s finished\n",
      "[Parallel(n_jobs=8)]: Using backend ThreadingBackend with 8 concurrent workers.\n",
      "[Parallel(n_jobs=8)]: Done  34 tasks      | elapsed:    0.0s\n",
      "[Parallel(n_jobs=8)]: Done 184 tasks      | elapsed:    0.0s\n",
      "[Parallel(n_jobs=8)]: Done 434 tasks      | elapsed:    0.1s\n",
      "[Parallel(n_jobs=8)]: Done 784 tasks      | elapsed:    0.3s\n",
      "[Parallel(n_jobs=8)]: Done 1000 out of 1000 | elapsed:    0.4s finished\n",
      "[Parallel(n_jobs=8)]: Using backend ThreadingBackend with 8 concurrent workers.\n",
      "[Parallel(n_jobs=8)]: Done  34 tasks      | elapsed:    0.0s\n",
      "[Parallel(n_jobs=8)]: Done 184 tasks      | elapsed:    0.0s\n",
      "[Parallel(n_jobs=8)]: Done 434 tasks      | elapsed:    0.1s\n",
      "[Parallel(n_jobs=8)]: Done 784 tasks      | elapsed:    0.2s\n",
      "[Parallel(n_jobs=8)]: Done 1000 out of 1000 | elapsed:    0.3s finished\n"
     ]
    }
   ],
   "source": [
    "from econml.dml import ForestDML\n",
    "from sklearn.dummy import DummyRegressor\n",
    "from sklearn.linear_model import LassoCV, LogisticRegressionCV\n",
    "from sklearn.ensemble import RandomForestRegressor\n",
    "est = ForestDML(model_y=RandomForestRegressor(min_samples_leaf=100),\n",
    "                model_t=RandomForestRegressor(min_samples_leaf=100),\n",
    "                n_estimators=1000, min_samples_leaf=20, subsample_fr=.9,\n",
    "                max_depth=100, verbose=0, n_jobs=-1).fit(y, T, X=X)"
   ]
  },
  {
   "cell_type": "code",
   "execution_count": 91,
   "metadata": {},
   "outputs": [
    {
     "name": "stderr",
     "output_type": "stream",
     "text": [
      "[Parallel(n_jobs=8)]: Using backend ThreadingBackend with 8 concurrent workers.\n",
      "[Parallel(n_jobs=8)]: Done  34 tasks      | elapsed:    0.0s\n",
      "[Parallel(n_jobs=8)]: Done 184 tasks      | elapsed:    0.0s\n",
      "[Parallel(n_jobs=8)]: Done 434 tasks      | elapsed:    0.0s\n",
      "[Parallel(n_jobs=8)]: Done 784 tasks      | elapsed:    0.2s\n",
      "[Parallel(n_jobs=8)]: Done 1000 out of 1000 | elapsed:    0.3s finished\n",
      "[Parallel(n_jobs=8)]: Using backend ThreadingBackend with 8 concurrent workers.\n",
      "[Parallel(n_jobs=8)]: Done  34 tasks      | elapsed:    0.0s\n",
      "[Parallel(n_jobs=8)]: Done 184 tasks      | elapsed:    0.0s\n",
      "[Parallel(n_jobs=8)]: Done 434 tasks      | elapsed:    0.1s\n",
      "[Parallel(n_jobs=8)]: Done 784 tasks      | elapsed:    0.2s\n",
      "[Parallel(n_jobs=8)]: Done 1000 out of 1000 | elapsed:    0.3s finished\n",
      "[Parallel(n_jobs=8)]: Using backend ThreadingBackend with 8 concurrent workers.\n",
      "[Parallel(n_jobs=8)]: Done  34 tasks      | elapsed:    0.0s\n",
      "[Parallel(n_jobs=8)]: Done 184 tasks      | elapsed:    0.0s\n",
      "[Parallel(n_jobs=8)]: Done 434 tasks      | elapsed:    0.1s\n",
      "[Parallel(n_jobs=8)]: Done 784 tasks      | elapsed:    0.2s\n",
      "[Parallel(n_jobs=8)]: Done 1000 out of 1000 | elapsed:    0.4s finished\n",
      "[Parallel(n_jobs=8)]: Using backend ThreadingBackend with 8 concurrent workers.\n",
      "[Parallel(n_jobs=8)]: Done  34 tasks      | elapsed:    0.0s\n",
      "[Parallel(n_jobs=8)]: Done 184 tasks      | elapsed:    0.0s\n",
      "[Parallel(n_jobs=8)]: Done 434 tasks      | elapsed:    0.1s\n",
      "[Parallel(n_jobs=8)]: Done 784 tasks      | elapsed:    0.2s\n",
      "[Parallel(n_jobs=8)]: Done 1000 out of 1000 | elapsed:    0.2s finished\n",
      "[Parallel(n_jobs=8)]: Using backend ThreadingBackend with 8 concurrent workers.\n",
      "[Parallel(n_jobs=8)]: Done  34 tasks      | elapsed:    0.0s\n",
      "[Parallel(n_jobs=8)]: Done 184 tasks      | elapsed:    0.0s\n",
      "[Parallel(n_jobs=8)]: Done 434 tasks      | elapsed:    0.1s\n",
      "[Parallel(n_jobs=8)]: Done 784 tasks      | elapsed:    0.2s\n",
      "[Parallel(n_jobs=8)]: Done 1000 out of 1000 | elapsed:    0.3s finished\n",
      "[Parallel(n_jobs=8)]: Using backend ThreadingBackend with 8 concurrent workers.\n",
      "[Parallel(n_jobs=8)]: Done  34 tasks      | elapsed:    0.0s\n",
      "[Parallel(n_jobs=8)]: Done 184 tasks      | elapsed:    0.0s\n",
      "[Parallel(n_jobs=8)]: Done 434 tasks      | elapsed:    0.1s\n",
      "[Parallel(n_jobs=8)]: Done 784 tasks      | elapsed:    0.2s\n",
      "[Parallel(n_jobs=8)]: Done 1000 out of 1000 | elapsed:    0.3s finished\n",
      "[Parallel(n_jobs=8)]: Using backend ThreadingBackend with 8 concurrent workers.\n",
      "[Parallel(n_jobs=8)]: Done  32 out of  32 | elapsed:    0.0s finished\n",
      "[Parallel(n_jobs=8)]: Using backend ThreadingBackend with 8 concurrent workers.\n",
      "[Parallel(n_jobs=8)]: Done  32 out of  32 | elapsed:    0.0s finished\n",
      "[Parallel(n_jobs=8)]: Using backend ThreadingBackend with 8 concurrent workers.\n",
      "[Parallel(n_jobs=8)]: Done  32 out of  32 | elapsed:    0.0s finished\n",
      "[Parallel(n_jobs=8)]: Using backend ThreadingBackend with 8 concurrent workers.\n",
      "[Parallel(n_jobs=8)]: Done  32 out of  32 | elapsed:    0.0s finished\n",
      "[Parallel(n_jobs=8)]: Using backend ThreadingBackend with 8 concurrent workers.\n",
      "[Parallel(n_jobs=8)]: Done  32 out of  32 | elapsed:    0.0s finished\n",
      "[Parallel(n_jobs=8)]: Using backend ThreadingBackend with 8 concurrent workers.\n",
      "[Parallel(n_jobs=8)]: Done  32 out of  32 | elapsed:    0.0s finished\n",
      "[Parallel(n_jobs=8)]: Using backend ThreadingBackend with 8 concurrent workers.\n",
      "[Parallel(n_jobs=8)]: Done  32 out of  32 | elapsed:    0.0s finished\n",
      "[Parallel(n_jobs=8)]: Using backend ThreadingBackend with 8 concurrent workers.\n",
      "[Parallel(n_jobs=8)]: Done  32 out of  32 | elapsed:    0.0s finished\n",
      "[Parallel(n_jobs=8)]: Using backend ThreadingBackend with 8 concurrent workers.\n",
      "[Parallel(n_jobs=8)]: Done  32 out of  32 | elapsed:    0.0s finished\n",
      "[Parallel(n_jobs=8)]: Using backend ThreadingBackend with 8 concurrent workers.\n",
      "[Parallel(n_jobs=8)]: Done  32 out of  32 | elapsed:    0.0s finished\n",
      "[Parallel(n_jobs=8)]: Using backend ThreadingBackend with 8 concurrent workers.\n",
      "[Parallel(n_jobs=8)]: Done  32 out of  32 | elapsed:    0.0s finished\n",
      "[Parallel(n_jobs=8)]: Using backend ThreadingBackend with 8 concurrent workers.\n",
      "[Parallel(n_jobs=8)]: Done  32 out of  32 | elapsed:    0.0s finished\n",
      "[Parallel(n_jobs=8)]: Using backend ThreadingBackend with 8 concurrent workers.\n",
      "[Parallel(n_jobs=8)]: Done  32 out of  32 | elapsed:    0.0s finished\n",
      "[Parallel(n_jobs=8)]: Using backend ThreadingBackend with 8 concurrent workers.\n",
      "[Parallel(n_jobs=8)]: Done  32 out of  32 | elapsed:    0.0s finished\n",
      "[Parallel(n_jobs=8)]: Using backend ThreadingBackend with 8 concurrent workers.\n",
      "[Parallel(n_jobs=8)]: Done  32 out of  32 | elapsed:    0.0s finished\n",
      "[Parallel(n_jobs=8)]: Using backend ThreadingBackend with 8 concurrent workers.\n",
      "[Parallel(n_jobs=8)]: Done  32 out of  32 | elapsed:    0.0s finished\n",
      "[Parallel(n_jobs=8)]: Using backend ThreadingBackend with 8 concurrent workers.\n",
      "[Parallel(n_jobs=8)]: Done  32 out of  32 | elapsed:    0.0s finished\n",
      "[Parallel(n_jobs=8)]: Using backend ThreadingBackend with 8 concurrent workers.\n",
      "[Parallel(n_jobs=8)]: Done  32 out of  32 | elapsed:    0.0s finished\n",
      "[Parallel(n_jobs=8)]: Using backend ThreadingBackend with 8 concurrent workers.\n",
      "[Parallel(n_jobs=8)]: Done  32 out of  32 | elapsed:    0.0s finished\n",
      "[Parallel(n_jobs=8)]: Using backend ThreadingBackend with 8 concurrent workers.\n",
      "[Parallel(n_jobs=8)]: Done  32 out of  32 | elapsed:    0.0s finished\n",
      "[Parallel(n_jobs=8)]: Using backend ThreadingBackend with 8 concurrent workers.\n",
      "[Parallel(n_jobs=8)]: Done  32 out of  32 | elapsed:    0.0s finished\n",
      "[Parallel(n_jobs=8)]: Using backend ThreadingBackend with 8 concurrent workers.\n",
      "[Parallel(n_jobs=8)]: Done  32 out of  32 | elapsed:    0.0s finished\n",
      "[Parallel(n_jobs=8)]: Using backend ThreadingBackend with 8 concurrent workers.\n",
      "[Parallel(n_jobs=8)]: Done  32 out of  32 | elapsed:    0.0s finished\n",
      "[Parallel(n_jobs=8)]: Using backend ThreadingBackend with 8 concurrent workers.\n",
      "[Parallel(n_jobs=8)]: Done  32 out of  32 | elapsed:    0.0s finished\n",
      "[Parallel(n_jobs=8)]: Using backend ThreadingBackend with 8 concurrent workers.\n",
      "[Parallel(n_jobs=8)]: Done  32 out of  32 | elapsed:    0.0s finished\n",
      "[Parallel(n_jobs=8)]: Using backend ThreadingBackend with 8 concurrent workers.\n",
      "[Parallel(n_jobs=8)]: Done  32 out of  32 | elapsed:    0.0s finished\n",
      "[Parallel(n_jobs=8)]: Using backend ThreadingBackend with 8 concurrent workers.\n",
      "[Parallel(n_jobs=8)]: Done  32 out of  32 | elapsed:    0.0s finished\n",
      "[Parallel(n_jobs=8)]: Using backend ThreadingBackend with 8 concurrent workers.\n",
      "[Parallel(n_jobs=8)]: Done  32 out of  32 | elapsed:    0.0s finished\n",
      "[Parallel(n_jobs=8)]: Using backend ThreadingBackend with 8 concurrent workers.\n",
      "[Parallel(n_jobs=8)]: Done  32 out of  32 | elapsed:    0.0s finished\n",
      "[Parallel(n_jobs=8)]: Using backend ThreadingBackend with 8 concurrent workers.\n",
      "[Parallel(n_jobs=8)]: Done  32 out of  32 | elapsed:    0.0s finished\n",
      "[Parallel(n_jobs=8)]: Using backend ThreadingBackend with 8 concurrent workers.\n",
      "[Parallel(n_jobs=8)]: Done  32 out of  32 | elapsed:    0.0s finished\n",
      "[Parallel(n_jobs=8)]: Using backend ThreadingBackend with 8 concurrent workers.\n",
      "[Parallel(n_jobs=8)]: Done   2 out of   8 | elapsed:    0.0s remaining:    0.0s\n",
      "[Parallel(n_jobs=8)]: Done   8 out of   8 | elapsed:    0.0s finished\n",
      "[Parallel(n_jobs=8)]: Using backend ThreadingBackend with 8 concurrent workers.\n",
      "[Parallel(n_jobs=8)]: Done  32 out of  32 | elapsed:    0.0s finished\n",
      "[Parallel(n_jobs=8)]: Using backend ThreadingBackend with 8 concurrent workers.\n",
      "[Parallel(n_jobs=8)]: Done  32 out of  32 | elapsed:    0.0s finished\n",
      "[Parallel(n_jobs=8)]: Using backend ThreadingBackend with 8 concurrent workers.\n",
      "[Parallel(n_jobs=8)]: Done  32 out of  32 | elapsed:    0.0s finished\n",
      "[Parallel(n_jobs=8)]: Using backend ThreadingBackend with 8 concurrent workers.\n",
      "[Parallel(n_jobs=8)]: Done  32 out of  32 | elapsed:    0.0s finished\n",
      "[Parallel(n_jobs=8)]: Using backend ThreadingBackend with 8 concurrent workers.\n",
      "[Parallel(n_jobs=8)]: Done  32 out of  32 | elapsed:    0.0s finished\n",
      "[Parallel(n_jobs=8)]: Using backend ThreadingBackend with 8 concurrent workers.\n",
      "[Parallel(n_jobs=8)]: Done  32 out of  32 | elapsed:    0.0s finished\n",
      "[Parallel(n_jobs=8)]: Using backend ThreadingBackend with 8 concurrent workers.\n",
      "[Parallel(n_jobs=8)]: Done  32 out of  32 | elapsed:    0.0s finished\n"
     ]
    },
    {
     "name": "stderr",
     "output_type": "stream",
     "text": [
      "[Parallel(n_jobs=8)]: Using backend ThreadingBackend with 8 concurrent workers.\n",
      "[Parallel(n_jobs=8)]: Done  32 out of  32 | elapsed:    0.0s finished\n",
      "[Parallel(n_jobs=8)]: Using backend ThreadingBackend with 8 concurrent workers.\n",
      "[Parallel(n_jobs=8)]: Done  32 out of  32 | elapsed:    0.0s finished\n",
      "[Parallel(n_jobs=8)]: Using backend ThreadingBackend with 8 concurrent workers.\n",
      "[Parallel(n_jobs=8)]: Done  32 out of  32 | elapsed:    0.0s finished\n",
      "[Parallel(n_jobs=8)]: Using backend ThreadingBackend with 8 concurrent workers.\n",
      "[Parallel(n_jobs=8)]: Done  32 out of  32 | elapsed:    0.0s finished\n",
      "[Parallel(n_jobs=8)]: Using backend ThreadingBackend with 8 concurrent workers.\n",
      "[Parallel(n_jobs=8)]: Done  32 out of  32 | elapsed:    0.0s finished\n",
      "[Parallel(n_jobs=8)]: Using backend ThreadingBackend with 8 concurrent workers.\n",
      "[Parallel(n_jobs=8)]: Done  32 out of  32 | elapsed:    0.0s finished\n",
      "[Parallel(n_jobs=8)]: Using backend ThreadingBackend with 8 concurrent workers.\n",
      "[Parallel(n_jobs=8)]: Done  32 out of  32 | elapsed:    0.0s finished\n",
      "[Parallel(n_jobs=8)]: Using backend ThreadingBackend with 8 concurrent workers.\n",
      "[Parallel(n_jobs=8)]: Done  32 out of  32 | elapsed:    0.0s finished\n",
      "[Parallel(n_jobs=8)]: Using backend ThreadingBackend with 8 concurrent workers.\n",
      "[Parallel(n_jobs=8)]: Done  32 out of  32 | elapsed:    0.0s finished\n",
      "[Parallel(n_jobs=8)]: Using backend ThreadingBackend with 8 concurrent workers.\n",
      "[Parallel(n_jobs=8)]: Done  32 out of  32 | elapsed:    0.0s finished\n",
      "[Parallel(n_jobs=8)]: Using backend ThreadingBackend with 8 concurrent workers.\n",
      "[Parallel(n_jobs=8)]: Done  32 out of  32 | elapsed:    0.0s finished\n",
      "[Parallel(n_jobs=8)]: Using backend ThreadingBackend with 8 concurrent workers.\n",
      "[Parallel(n_jobs=8)]: Done  32 out of  32 | elapsed:    0.0s finished\n",
      "[Parallel(n_jobs=8)]: Using backend ThreadingBackend with 8 concurrent workers.\n",
      "[Parallel(n_jobs=8)]: Done  32 out of  32 | elapsed:    0.0s finished\n",
      "[Parallel(n_jobs=8)]: Using backend ThreadingBackend with 8 concurrent workers.\n",
      "[Parallel(n_jobs=8)]: Done  32 out of  32 | elapsed:    0.0s finished\n",
      "[Parallel(n_jobs=8)]: Using backend ThreadingBackend with 8 concurrent workers.\n",
      "[Parallel(n_jobs=8)]: Done  32 out of  32 | elapsed:    0.0s finished\n",
      "[Parallel(n_jobs=8)]: Using backend ThreadingBackend with 8 concurrent workers.\n",
      "[Parallel(n_jobs=8)]: Done  32 out of  32 | elapsed:    0.0s finished\n",
      "[Parallel(n_jobs=8)]: Using backend ThreadingBackend with 8 concurrent workers.\n",
      "[Parallel(n_jobs=8)]: Done  32 out of  32 | elapsed:    0.0s finished\n",
      "[Parallel(n_jobs=8)]: Using backend ThreadingBackend with 8 concurrent workers.\n",
      "[Parallel(n_jobs=8)]: Done  32 out of  32 | elapsed:    0.0s finished\n",
      "[Parallel(n_jobs=8)]: Using backend ThreadingBackend with 8 concurrent workers.\n",
      "[Parallel(n_jobs=8)]: Done  32 out of  32 | elapsed:    0.0s finished\n",
      "[Parallel(n_jobs=8)]: Using backend ThreadingBackend with 8 concurrent workers.\n",
      "[Parallel(n_jobs=8)]: Done  32 out of  32 | elapsed:    0.0s finished\n",
      "[Parallel(n_jobs=8)]: Using backend ThreadingBackend with 8 concurrent workers.\n",
      "[Parallel(n_jobs=8)]: Done  32 out of  32 | elapsed:    0.0s finished\n",
      "[Parallel(n_jobs=8)]: Using backend ThreadingBackend with 8 concurrent workers.\n",
      "[Parallel(n_jobs=8)]: Done  32 out of  32 | elapsed:    0.0s finished\n",
      "[Parallel(n_jobs=8)]: Using backend ThreadingBackend with 8 concurrent workers.\n",
      "[Parallel(n_jobs=8)]: Done  32 out of  32 | elapsed:    0.0s finished\n",
      "[Parallel(n_jobs=8)]: Using backend ThreadingBackend with 8 concurrent workers.\n",
      "[Parallel(n_jobs=8)]: Done  32 out of  32 | elapsed:    0.0s finished\n",
      "[Parallel(n_jobs=8)]: Using backend ThreadingBackend with 8 concurrent workers.\n",
      "[Parallel(n_jobs=8)]: Done   2 out of   8 | elapsed:    0.0s remaining:    0.0s\n",
      "[Parallel(n_jobs=8)]: Done   8 out of   8 | elapsed:    0.0s finished\n"
     ]
    },
    {
     "data": {
      "image/png": "[encoded data removed]",
      "text/plain": [
       "<Figure size 432x288 with 1 Axes>"
      ]
     },
     "metadata": {
      "needs_background": "light"
     },
     "output_type": "display_data"
    }
   ],
   "source": [
    "import matplotlib.pyplot as plt\n",
    "plt.plot(X_test[:, 0], est.const_marginal_effect(X_test)[:, 0, 0])\n",
    "plt.fill_between(X_test[:, 0],\n",
    "                 *map(lambda x: x[:, 0, 0], est.const_marginal_effect_interval(X_test, alpha=0.01)), alpha=.4)\n",
    "plt.plot(X_test[:, 0], true_te(X_test))\n",
    "plt.show()"
   ]
  },
  {
   "cell_type": "code",
   "execution_count": 137,
   "metadata": {},
   "outputs": [
    {
     "name": "stderr",
     "output_type": "stream",
     "text": [
      "[Parallel(n_jobs=-1)]: Using backend ThreadingBackend with 8 concurrent workers.\n",
      "[Parallel(n_jobs=-1)]: Done  16 tasks      | elapsed:    3.0s\n",
      "[Parallel(n_jobs=-1)]: Done 100 out of 100 | elapsed:   18.6s finished\n",
      "[Parallel(n_jobs=-1)]: Using backend ThreadingBackend with 8 concurrent workers.\n",
      "[Parallel(n_jobs=-1)]: Done  16 tasks      | elapsed:    3.0s\n",
      "[Parallel(n_jobs=-1)]: Done 100 out of 100 | elapsed:   20.2s finished\n"
     ]
    }
   ],
   "source": [
    "from econml.causal_forest import CausalForest\n",
    "from sklearn.linear_model import Lasso, MultiTaskLasso\n",
    "from econml.sklearn_extensions.linear_model import WeightedLasso, WeightedMultiTaskLasso\n",
    "\n",
    "est = CausalForest(n_trees=100, subsample_ratio=.9, min_leaf_size=20,\n",
    "                   max_depth=100, model_T=WeightedMultiTaskLasso(), model_Y=WeightedLasso()).fit(y, T, X=X)"
   ]
  },
  {
   "cell_type": "code",
   "execution_count": 138,
   "metadata": {},
   "outputs": [
    {
     "name": "stderr",
     "output_type": "stream",
     "text": [
      "[Parallel(n_jobs=-1)]: Using backend ThreadingBackend with 8 concurrent workers.\n",
      "[Parallel(n_jobs=-1)]: Done  18 tasks      | elapsed:    0.2s\n",
      "[Parallel(n_jobs=-1)]: Done 114 tasks      | elapsed:    1.0s\n",
      "[Parallel(n_jobs=-1)]: Done 274 tasks      | elapsed:    2.6s\n",
      "[Parallel(n_jobs=-1)]: Done 498 tasks      | elapsed:    5.4s\n",
      "[Parallel(n_jobs=-1)]: Done 786 tasks      | elapsed:    8.9s\n",
      "[Parallel(n_jobs=-1)]: Done 1000 out of 1000 | elapsed:   10.7s finished\n"
     ]
    },
    {
     "data": {
      "image/png": "[encoded data removed]",
      "text/plain": [
       "<Figure size 432x288 with 1 Axes>"
      ]
     },
     "metadata": {
      "needs_background": "light"
     },
     "output_type": "display_data"
    }
   ],
   "source": [
    "import matplotlib.pyplot as plt\n",
    "plt.plot(X_test[:, 0], est.const_marginal_effect(X_test)[:, 0])\n",
    "plt.plot(X_test[:, 0], true_te(X_test))\n",
    "plt.show()"
   ]
  },
  {
   "cell_type": "code",
   "execution_count": null,
   "metadata": {},
   "outputs": [
    {
     "name": "stderr",
     "output_type": "stream",
     "text": [
      "[Parallel(n_jobs=-1)]: Using backend LokyBackend with 8 concurrent workers.\n",
      "[Parallel(n_jobs=-1)]: Done  16 tasks      | elapsed:  1.8min\n",
      "[Parallel(n_jobs=-1)]: Done 100 out of 100 | elapsed: 11.9min finished\n",
      "[Parallel(n_jobs=-1)]: Using backend LokyBackend with 8 concurrent workers.\n",
      "[Parallel(n_jobs=-1)]: Done  16 tasks      | elapsed:  2.0min\n"
     ]
    }
   ],
   "source": [
    "from econml.ortho_forest import DMLOrthoForest\n",
    "from sklearn.linear_model import Lasso, MultiTaskLasso\n",
    "from econml.sklearn_extensions.linear_model import WeightedLasso, WeightedMultiTaskLasso\n",
    "\n",
    "est = DMLOrthoForest(n_trees=100, subsample_ratio=.9, min_leaf_size=20,\n",
    "                     max_depth=100, model_T=WeightedMultiTaskLasso(), model_Y=WeightedLasso()).fit(y, T, X=X)"
   ]
  },
  {
   "cell_type": "code",
   "execution_count": null,
   "metadata": {},
   "outputs": [],
   "source": [
    "import matplotlib.pyplot as plt\n",
    "plt.plot(X_test[:, 0], est.const_marginal_effect(X_test)[:, 0])\n",
    "plt.plot(X_test[:, 0], true_te(X_test))\n",
    "plt.show()"
   ]
  },
  {
   "cell_type": "code",
   "execution_count": null,
   "metadata": {},
   "outputs": [],
   "source": []
  }
 ],
 "metadata": {
  "kernelspec": {
   "display_name": "Python 3",
   "language": "python",
   "name": "python3"
  },
  "language_info": {
   "codemirror_mode": {
    "name": "ipython",
    "version": 3
   },
   "file_extension": ".py",
   "mimetype": "text/x-python",
   "name": "python",
   "nbconvert_exporter": "python",
   "pygments_lexer": "ipython3",
   "version": "3.7.4"
  }
 },
 "nbformat": 4,
 "nbformat_minor": 4
}
